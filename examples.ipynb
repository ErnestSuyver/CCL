{
 "cells": [
  {
   "cell_type": "markdown",
   "id": "de59b407-b1d7-45a5-9344-0d83791a22d9",
   "metadata": {},
   "source": [
    "# Examples"
   ]
  },
  {
   "cell_type": "markdown",
   "id": "e25b1331-ef30-41a4-aa76-cb4cf7f3ca9c",
   "metadata": {},
   "source": [
    "This page contains some example code. You can copy the code and run it in your own development environment. You can also download this page and run it in an online environment where you can play with the code and see its output. Below is explained how to do that. \n",
    "\n",
    "However, it is much more convenient - and fun - to be able to run the code right here in the browser. This is what this page hopes to do...\n",
    "\n",
    "If all is well, a round button is visible at the top of the page. It looks  like an on-off button, and it is. Press it to start running the code.\n",
    "\n",
    "The button should now turn into a menu. The first option is to run all of the the code on this page. Click it. You should now see a visualization of the code  below the code sections.\n",
    "\n",
    "Have fun!"
   ]
  },
  {
   "cell_type": "markdown",
   "id": "d96baf5f-76b7-4791-a4a4-6691deacd72b",
   "metadata": {},
   "source": [
    "## Example 1. Colored hexagon\n",
    "\n",
    "This code draws a colored hexagon. "
   ]
  },
  {
   "cell_type": "code",
   "execution_count": null,
   "id": "ae80ef24-9e79-4c4f-963f-dbbfd852d45b",
   "metadata": {},
   "outputs": [
    {
     "data": {
      "application/vnd.jupyter.widget-view+json": {
       "model_id": "f607ab60a8d44b5c8f7d06003a1cd09a",
       "version_major": 2,
       "version_minor": 0
      },
      "text/plain": [
       "Canvas(height=250, width=500)"
      ]
     },
     "metadata": {},
     "output_type": "display_data"
    }
   ],
   "source": [
    "#| label: example-1\n",
    "\n",
    "import ipyturtle3 as turtle\n",
    "from ipyturtle3 import hold_canvas\n",
    "myCanvas=turtle.Canvas(width=500,height=250)\n",
    "display(myCanvas)\n",
    "myTS=turtle.TurtleScreen(myCanvas)\n",
    "myTS.clear()\n",
    "\n",
    "# Rainbow benzene\n",
    "colors = ['red', 'purple', 'blue', 'green', 'orange', 'yellow']\n",
    "t = turtle.Turtle(myTS)\n",
    "myTS.bgcolor('black')\n",
    "for x in range(50):\n",
    "    with(hold_canvas(myCanvas)):\n",
    "        t.pencolor(colors[x%6])\n",
    "        t.width(x//100 + 1)\n",
    "        t.forward(x)\n",
    "        t.left(59)"
   ]
  },
  {
   "cell_type": "markdown",
   "id": "21dd7736",
   "metadata": {},
   "source": [
    "## Example 2. Euler curve\n",
    "\n",
    "This code draws a Euler curve."
   ]
  },
  {
   "cell_type": "code",
   "execution_count": null,
   "id": "212a7ec9",
   "metadata": {},
   "outputs": [
    {
     "data": {
      "application/vnd.jupyter.widget-view+json": {
       "model_id": "279066c61fca45f5a3c102db6425ec27",
       "version_major": 2,
       "version_minor": 0
      },
      "text/plain": [
       "Canvas(height=600, width=800)"
      ]
     },
     "metadata": {},
     "output_type": "display_data"
    }
   ],
   "source": [
    "#| label: example-2\n",
    "\n",
    "import ipyturtle3 as turtle\n",
    "from ipyturtle3 import hold_canvas\n",
    "myCanvas=turtle.Canvas(width=800,height=600)\n",
    "display(myCanvas)\n",
    "myTS=turtle.TurtleScreen(myCanvas)\n",
    "myTS.clear()\n",
    "\n",
    "# colors\n",
    "colors = ['black']\n",
    "t = turtle.Turtle(myTS)\n",
    "myTS.bgcolor('orange')\n",
    "\n",
    "# define the curve\n",
    "def euler_curve(step_size, angle_step, n_steps):\n",
    "    angle = 0\n",
    "    for i in range(n_steps):\n",
    "        with(hold_canvas(myCanvas)):\n",
    "            t.right(int(angle))  # Round angle to the nearest integer\n",
    "            t.forward(step_size)\n",
    "            angle += angle_step\n",
    "\n",
    "euler_curve(20, 1.00, 60)\n"
   ]
  },
  {
   "cell_type": "markdown",
   "id": "a74ae901-addc-4bfd-9bcc-82586bf82d2c",
   "metadata": {},
   "source": [
    "## Example 3. Euler curve with sliders\n",
    "\n",
    "This is the same example as above, but it has sliders, so you can experiment with the variables of the Euler curve: step length, angle, and number of steps.\n"
   ]
  },
  {
   "cell_type": "code",
   "execution_count": null,
   "id": "22bf61a5-74ab-41c7-9c17-31d8d975a125",
   "metadata": {},
   "outputs": [
    {
     "data": {
      "application/vnd.jupyter.widget-view+json": {
       "model_id": "745949edb6b74c4189f023156e6b86e7",
       "version_major": 2,
       "version_minor": 0
      },
      "text/plain": [
       "Canvas(height=600, width=800)"
      ]
     },
     "metadata": {},
     "output_type": "display_data"
    },
    {
     "data": {
      "application/vnd.jupyter.widget-view+json": {
       "model_id": "6a926382d61d437285521b8206c6a5f5",
       "version_major": 2,
       "version_minor": 0
      },
      "text/plain": [
       "interactive(children=(IntSlider(value=20, description='step_size', max=40, min=2, step=2), FloatSlider(value=1…"
      ]
     },
     "metadata": {},
     "output_type": "display_data"
    },
    {
     "data": {
      "text/plain": [
       "<function __main__.euler_curve(step_size=20, angle_step=1.0, n_steps=60)>"
      ]
     },
     "execution_count": null,
     "metadata": {},
     "output_type": "execute_result"
    }
   ],
   "source": [
    "#| label: example-3\n",
    "\n",
    "import ipyturtle3 as turtle\n",
    "from ipyturtle3 import hold_canvas\n",
    "from ipywidgets import interact\n",
    "\n",
    "myCanvas=turtle.Canvas(width=800,height=600)\n",
    "display(myCanvas)\n",
    "myTS=turtle.TurtleScreen(myCanvas)\n",
    "myTS.clear()\n",
    "\n",
    "# colors\n",
    "colors = ['black']\n",
    "t = turtle.Turtle(myTS)\n",
    "myTS.bgcolor('orange')\n",
    "\n",
    "# define the curve\n",
    "def euler_curve(step_size=20, angle_step=1.00, n_steps=60):\n",
    "    angle = 0\n",
    "    for i in range(n_steps):\n",
    "        with(hold_canvas(myCanvas)):\n",
    "            t.right(int(angle))  # Round angle to the nearest integer\n",
    "            t.forward(step_size)\n",
    "            angle += angle_step\n",
    "\n",
    "# The interact function expects the range to be defined as (min, max, step). I\n",
    "# interact(euler_curve, step_size=(6, 120, 2))\n",
    "interact(euler_curve, step_size=(2, 40, 2), angle_step=(0.1, 2.0, 0.1), n_steps=(0, 1200, 30))\n"
   ]
  },
  {
   "cell_type": "markdown",
   "id": "70cc0037-57af-41f4-8a43-160dcbe1dc08",
   "metadata": {},
   "source": [
    "## Tech talk ⚠ ⚠ ⚠\n",
    "\n",
    "The sections below are quite technical. Read them at your own peril!\n"
   ]
  },
  {
   "cell_type": "markdown",
   "id": "ddcfb73d",
   "metadata": {},
   "source": [
    "### About these examples\n",
    "\n",
    "Example 1 draws a colored hexagon, using Python's _Turtle Graphics_ and _ipyturtle3_ libraries and the _ipycanvas_ JupyterLab widget. \n",
    "\n",
    "Example 2 draws an Euler curver, using Python's _Turtle Graphics_ and _ipyturtle3_ libraries and the _ipycanvas_ Jupyter Lab widget.\n",
    "\n",
    "Example 3 is the same as example 2, but it uses the ipywidgets library to create some sliders, so readers of the notebook can experiment with the variables of the Euler curve: step length, angle, and number of steps."
   ]
  },
  {
   "cell_type": "markdown",
   "id": "46fd0a34",
   "metadata": {},
   "source": [
    "### What is this page?\n",
    "\n",
    "This is a notebook. A notebook is a \"computational document\", that is, a document where text may be combined with code and data, and where code can run and visualized. \n",
    "\n",
    "This makes notebooks useful for our purposes: to share examples of creative coding by providing some explanation and some code, and having the ability to run that code, have the output right there and then, and to edit the code and re-run it."
   ]
  },
  {
   "cell_type": "markdown",
   "id": "d693b63f",
   "metadata": {},
   "source": [
    "### notebooks\n",
    "\n",
    "There is currently only one at this site. It has some elementary examples using the Turtle library from the Python programming language.\n",
    "\n",
    "In the future, we may add more, such as examples using the DrawBot or the Py5 libraries, both in Python.\n",
    "\n",
    "Jupyter Notebooks also support other languages, such as JavaScript. This means we can also add examples using P5.js or D3.js.\n",
    "\n",
    "And there are many more libraries that can be used for visualization or other artistic purposes.\n"
   ]
  },
  {
   "cell_type": "markdown",
   "id": "b1d30000-08d5-40b3-bedf-8340cd3a67be",
   "metadata": {},
   "source": [
    "### What is Jupyter Notebook?\n",
    "\n",
    "The notebook on this page is a [Jupyter Notebook](https://jupyter.org/). This is a web-based interactive computing platform. The notebook combines texts with live code and visualizations."
   ]
  },
  {
   "cell_type": "markdown",
   "id": "d12dc91c",
   "metadata": {},
   "source": [
    "### How to run this notebook?\n",
    "\n",
    "There are many ways to run this notebook. Some of them require you to install software to run the notebook itself, and then other software to run the code _in_ the notebook. But there are easier ways. \n",
    "\n",
    "**We wanted to provide a self-contained unit, something you can run without having to install software.** 🎈🎈🎈"
   ]
  },
  {
   "cell_type": "markdown",
   "id": "091cd415",
   "metadata": {},
   "source": [
    "### Run the notebook on this  page\n",
    "\n",
    "The easiest way to use the notebook without having to install any other software is to run it in this very page. At the top of this page we tell you how you can do that."
   ]
  },
  {
   "cell_type": "markdown",
   "id": "c49bae97",
   "metadata": {},
   "source": [
    "### Run the notebook on Binder\n",
    "\n",
    "Binder is a service for running a notebook in its own dedicated online environment. It allows you to view and share Jupyter Notebooks without requiring any local installations.\n",
    "\n",
    "Click on [this link](https://mybinder.org/v2/gh/ErnestSuyver/CCL/HEAD) to interact with this notebook on Binder. \n",
    "\n",
    "Or click on the badge below.\n",
    "\n",
    "[![Binder](https://mybinder.org/badge_logo.svg)](https://mybinder.org/v2/gh/ErnestSuyver/CCL/HEAD)"
   ]
  },
  {
   "cell_type": "markdown",
   "id": "eff224f6",
   "metadata": {},
   "source": [
    "### What is Turtle?\n",
    "\n",
    "Turtle, or [Turtle Graphics](https://docs.python.org/3/library/turtle.html), is a Python library that lets people draw figures. It is called \"Turtle\" because the cursor is a turtle holding a pen, drawing a line as it moves. Originally, turtles were robots, literally drawing figures on paper. Later, Turtle graphics became a key feature of the educational [Logo programming language](https://en.wikipedia.org/wiki/Logo_(programming_language))."
   ]
  },
  {
   "cell_type": "markdown",
   "id": "6ab841c5-35c7-4727-8be2-b65413ec3f95",
   "metadata": {},
   "source": [
    "### What is ipyturtle3?\n",
    "\n",
    "[ipyturtle3](https://pypi.org/project/ipyturtle3/) is a Python library that makes it possible to use _Turtle_ in Jupyter Lab."
   ]
  },
  {
   "cell_type": "markdown",
   "id": "be33bd3b-3f45-42cf-aed0-4f092622cab5",
   "metadata": {},
   "source": [
    "### What is ipycanvas?\n",
    "\n",
    "[ipycanvas](https://ipycanvas.readthedocs.io/en/latest/) is a Python library that makes it possible to use the browser's canvas in a Jupyter Notebook. The [canvas](https://developer.mozilla.org/en-US/docs/Web/HTML/Element/canvas) is basically an area where you can draw or animate anything you like."
   ]
  },
  {
   "cell_type": "markdown",
   "id": "2012cc04-5512-4953-a53c-4e798cba4a14",
   "metadata": {},
   "source": [
    "### What is Python?\n",
    "\n",
    "[Python](https://www.python.org/) is a programming language. It is a way to tell the computer what you want to do."
   ]
  },
  {
   "cell_type": "markdown",
   "id": "c3a41637-4af8-4fac-ae44-eb456a838636",
   "metadata": {},
   "source": [
    "### What is GitHub?\n",
    "\n",
    "GitHub is a place to share code. It is named after _git_, a version management system for code. The code for this website, including text, images, and notebooks, are on [GitHub](https://github.com/ErnestSuyver/CCL)."
   ]
  }
 ],
 "metadata": {
  "kernelspec": {
   "display_name": "Python 3 (ipykernel)",
   "language": "python",
   "name": "python3"
  }
 },
 "nbformat": 4,
 "nbformat_minor": 5
}
