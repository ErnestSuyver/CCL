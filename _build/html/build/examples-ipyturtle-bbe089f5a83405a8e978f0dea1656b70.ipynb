{
 "cells": [
  {
   "cell_type": "markdown",
   "id": "de59b407-b1d7-45a5-9344-0d83791a22d9",
   "metadata": {},
   "source": [
    "# Examples"
   ]
  },
  {
   "cell_type": "markdown",
   "id": "e25b1331-ef30-41a4-aa76-cb4cf7f3ca9c",
   "metadata": {},
   "source": [
    "This is a Jupyter Notebook. A notebook is a \"computational document\", that is, a document where text may be combined with code and data, and where code can run and visualized. \n",
    "\n",
    "This makes notebooks useful for our purposes: to share examples of creative coding by providing some explanation and some code, and having the ability to run that code, have the output right there and then, and to edit the code and re-run it."
   ]
  },
  {
   "cell_type": "markdown",
   "id": "6b348f45",
   "metadata": {},
   "source": [
    "## Turtle with ipyturtle"
   ]
  },
  {
   "cell_type": "code",
   "execution_count": null,
   "id": "6dcd6ddd-c7a5-4ebd-950a-6281ade84d54",
   "metadata": {},
   "outputs": [
    {
     "data": {
      "application/vnd.jupyter.widget-view+json": {
       "model_id": "c109717f8aba4586879cbde390b2fa80",
       "version_major": 2,
       "version_minor": 0
      },
      "text/plain": [
       "Turtle()"
      ]
     },
     "execution_count": null,
     "metadata": {},
     "output_type": "execute_result"
    }
   ],
   "source": [
    "from ipyturtle import Turtle\n",
    "\n",
    "# Create a turtle\n",
    "t = Turtle()\n",
    "\n",
    "# Move the turtle\n",
    "t.forward(100)\n",
    "t.right(90)\n",
    "t.forward(100)\n",
    "\n",
    "# Display the turtle\n",
    "t\n"
   ]
  }
 ],
 "metadata": {
  "kernelspec": {
   "display_name": "Python 3 (ipykernel)",
   "language": "python",
   "name": "python3"
  }
 },
 "nbformat": 4,
 "nbformat_minor": 5
}
