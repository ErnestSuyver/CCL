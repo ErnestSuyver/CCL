{
 "cells": [
  {
   "cell_type": "markdown",
   "id": "de59b407-b1d7-45a5-9344-0d83791a22d9",
   "metadata": {},
   "source": [
    "# Turtle Example"
   ]
  },
  {
   "cell_type": "markdown",
   "id": "e25b1331-ef30-41a4-aa76-cb4cf7f3ca9c",
   "metadata": {},
   "source": [
    "This is a Jupyter Notebook. A notebook is a \"computational document\", that is, a document where text may be combined with code and data, and where code can run and visualized. \n",
    "\n",
    "This makes notebooks useful for our purposes: to share examples of creative coding by providing some explanation and some code, and having the ability to run that code, have the output right there and then, and to edit the code and re-run it."
   ]
  },
  {
   "cell_type": "markdown",
   "id": "21dd7736",
   "metadata": {},
   "source": [
    "In this example, we are using Turtle."
   ]
  },
  {
   "cell_type": "code",
   "execution_count": null,
   "id": "212a7ec9",
   "metadata": {},
   "outputs": [
    {
     "data": {
      "application/vnd.jupyter.widget-view+json": {
       "model_id": "a71ea25799a04d0c8721f6aeee389885",
       "version_major": 2,
       "version_minor": 0
      },
      "image/svg+xml": [
       "<svg xmlns=\"http://www.w3.org/2000/svg\" viewBox=\"0 0 801 501\" width=\"800\" height=\"500\"><rect width=\"800\" height=\"500\" fill=\"white\"/></svg>"
      ],
      "text/plain": [
       "Turtle()"
      ]
     },
     "metadata": {},
     "output_type": "display_data"
    },
    {
     "ename": "ValueError",
     "evalue": "cannot find widget or abbreviation for argument: 'angle_step'",
     "output_type": "error",
     "traceback": [
      "\u001b[0;31m---------------------------------------------------------------------------\u001b[0m",
      "\u001b[0;31mValueError\u001b[0m                                Traceback (most recent call last)",
      "Cell \u001b[0;32mIn[4], line 18\u001b[0m\n\u001b[1;32m     15\u001b[0m         angle \u001b[38;5;241m+\u001b[39m\u001b[38;5;241m=\u001b[39m angle_step\n\u001b[1;32m     17\u001b[0m \u001b[38;5;66;03m# euler_curve(20, 1.00, 600)\u001b[39;00m\n\u001b[0;32m---> 18\u001b[0m \u001b[43minteract\u001b[49m\u001b[43m(\u001b[49m\u001b[43meuler_curve\u001b[49m\u001b[43m,\u001b[49m\u001b[43m \u001b[49m\u001b[43mstep_size\u001b[49m\u001b[38;5;241;43m=\u001b[39;49m\u001b[43m(\u001b[49m\u001b[38;5;241;43m20\u001b[39;49m\u001b[43m,\u001b[49m\u001b[43m \u001b[49m\u001b[38;5;241;43m1\u001b[39;49m\u001b[43m,\u001b[49m\u001b[43m \u001b[49m\u001b[38;5;241;43m60\u001b[39;49m\u001b[43m)\u001b[49m\u001b[43m)\u001b[49m\n",
      "File \u001b[0;32m/Library/Frameworks/Python.framework/Versions/3.11/lib/python3.11/site-packages/ipywidgets/widgets/interaction.py:510\u001b[0m, in \u001b[0;36m_InteractFactory.__call__\u001b[0;34m(self, _InteractFactory__interact_f, **kwargs)\u001b[0m\n\u001b[1;32m    502\u001b[0m     \u001b[38;5;28;01mreturn\u001b[39;00m \u001b[38;5;28mself\u001b[39m\n\u001b[1;32m    504\u001b[0m \u001b[38;5;66;03m# positional arg support in: https://gist.github.com/8851331\u001b[39;00m\n\u001b[1;32m    505\u001b[0m \u001b[38;5;66;03m# Handle the cases 1 and 2\u001b[39;00m\n\u001b[1;32m    506\u001b[0m \u001b[38;5;66;03m# 1. interact(f, **kwargs)\u001b[39;00m\n\u001b[1;32m    507\u001b[0m \u001b[38;5;66;03m# 2. @interact\u001b[39;00m\n\u001b[1;32m    508\u001b[0m \u001b[38;5;66;03m#    def f(*args, **kwargs):\u001b[39;00m\n\u001b[1;32m    509\u001b[0m \u001b[38;5;66;03m#        ...\u001b[39;00m\n\u001b[0;32m--> 510\u001b[0m w \u001b[38;5;241m=\u001b[39m \u001b[38;5;28;43mself\u001b[39;49m\u001b[38;5;241;43m.\u001b[39;49m\u001b[43mwidget\u001b[49m\u001b[43m(\u001b[49m\u001b[43mf\u001b[49m\u001b[43m)\u001b[49m\n\u001b[1;32m    511\u001b[0m \u001b[38;5;28;01mtry\u001b[39;00m:\n\u001b[1;32m    512\u001b[0m     f\u001b[38;5;241m.\u001b[39mwidget \u001b[38;5;241m=\u001b[39m w\n",
      "File \u001b[0;32m/Library/Frameworks/Python.framework/Versions/3.11/lib/python3.11/site-packages/ipywidgets/widgets/interaction.py:426\u001b[0m, in \u001b[0;36m_InteractFactory.widget\u001b[0;34m(self, f)\u001b[0m\n\u001b[1;32m    410\u001b[0m \u001b[38;5;28;01mdef\u001b[39;00m \u001b[38;5;21mwidget\u001b[39m(\u001b[38;5;28mself\u001b[39m, f):\n\u001b[1;32m    411\u001b[0m     \u001b[38;5;124;03m\"\"\"\u001b[39;00m\n\u001b[1;32m    412\u001b[0m \u001b[38;5;124;03m    Return an interactive function widget for the given function.\u001b[39;00m\n\u001b[1;32m    413\u001b[0m \n\u001b[0;32m   (...)\u001b[0m\n\u001b[1;32m    424\u001b[0m \u001b[38;5;124;03m        The function to which the interactive widgets are tied.\u001b[39;00m\n\u001b[1;32m    425\u001b[0m \u001b[38;5;124;03m    \"\"\"\u001b[39;00m\n\u001b[0;32m--> 426\u001b[0m     \u001b[38;5;28;01mreturn\u001b[39;00m \u001b[38;5;28;43mself\u001b[39;49m\u001b[38;5;241;43m.\u001b[39;49m\u001b[43mcls\u001b[49m\u001b[43m(\u001b[49m\u001b[43mf\u001b[49m\u001b[43m,\u001b[49m\u001b[43m \u001b[49m\u001b[38;5;28;43mself\u001b[39;49m\u001b[38;5;241;43m.\u001b[39;49m\u001b[43mopts\u001b[49m\u001b[43m,\u001b[49m\u001b[43m \u001b[49m\u001b[38;5;241;43m*\u001b[39;49m\u001b[38;5;241;43m*\u001b[39;49m\u001b[38;5;28;43mself\u001b[39;49m\u001b[38;5;241;43m.\u001b[39;49m\u001b[43mkwargs\u001b[49m\u001b[43m)\u001b[49m\n",
      "File \u001b[0;32m/Library/Frameworks/Python.framework/Versions/3.11/lib/python3.11/site-packages/ipywidgets/widgets/interaction.py:172\u001b[0m, in \u001b[0;36minteractive.__init__\u001b[0;34m(self, _interactive__interact_f, _interactive__options, **kwargs)\u001b[0m\n\u001b[1;32m    169\u001b[0m \u001b[38;5;28mself\u001b[39m\u001b[38;5;241m.\u001b[39mmanual_name \u001b[38;5;241m=\u001b[39m __options\u001b[38;5;241m.\u001b[39mget(\u001b[38;5;124m\"\u001b[39m\u001b[38;5;124mmanual_name\u001b[39m\u001b[38;5;124m\"\u001b[39m, \u001b[38;5;124m\"\u001b[39m\u001b[38;5;124mRun Interact\u001b[39m\u001b[38;5;124m\"\u001b[39m)\n\u001b[1;32m    170\u001b[0m \u001b[38;5;28mself\u001b[39m\u001b[38;5;241m.\u001b[39mauto_display \u001b[38;5;241m=\u001b[39m __options\u001b[38;5;241m.\u001b[39mget(\u001b[38;5;124m\"\u001b[39m\u001b[38;5;124mauto_display\u001b[39m\u001b[38;5;124m\"\u001b[39m, \u001b[38;5;28;01mFalse\u001b[39;00m)\n\u001b[0;32m--> 172\u001b[0m new_kwargs \u001b[38;5;241m=\u001b[39m \u001b[38;5;28;43mself\u001b[39;49m\u001b[38;5;241;43m.\u001b[39;49m\u001b[43mfind_abbreviations\u001b[49m\u001b[43m(\u001b[49m\u001b[43mkwargs\u001b[49m\u001b[43m)\u001b[49m\n\u001b[1;32m    173\u001b[0m \u001b[38;5;66;03m# Before we proceed, let's make sure that the user has passed a set of args+kwargs\u001b[39;00m\n\u001b[1;32m    174\u001b[0m \u001b[38;5;66;03m# that will lead to a valid call of the function. This protects against unspecified\u001b[39;00m\n\u001b[1;32m    175\u001b[0m \u001b[38;5;66;03m# and doubly-specified arguments.\u001b[39;00m\n\u001b[1;32m    176\u001b[0m \u001b[38;5;28;01mtry\u001b[39;00m:\n",
      "File \u001b[0;32m/Library/Frameworks/Python.framework/Versions/3.11/lib/python3.11/site-packages/ipywidgets/widgets/interaction.py:271\u001b[0m, in \u001b[0;36minteractive.find_abbreviations\u001b[0;34m(self, kwargs)\u001b[0m\n\u001b[1;32m    269\u001b[0m     \u001b[38;5;28;01mfor\u001b[39;00m name, value, default \u001b[38;5;129;01min\u001b[39;00m _yield_abbreviations_for_parameter(param, kwargs):\n\u001b[1;32m    270\u001b[0m         \u001b[38;5;28;01mif\u001b[39;00m value \u001b[38;5;129;01mis\u001b[39;00m empty:\n\u001b[0;32m--> 271\u001b[0m             \u001b[38;5;28;01mraise\u001b[39;00m \u001b[38;5;167;01mValueError\u001b[39;00m(\u001b[38;5;124m'\u001b[39m\u001b[38;5;124mcannot find widget or abbreviation for argument: \u001b[39m\u001b[38;5;132;01m{!r}\u001b[39;00m\u001b[38;5;124m'\u001b[39m\u001b[38;5;241m.\u001b[39mformat(name))\n\u001b[1;32m    272\u001b[0m         new_kwargs\u001b[38;5;241m.\u001b[39mappend((name, value, default))\n\u001b[1;32m    273\u001b[0m \u001b[38;5;28;01mreturn\u001b[39;00m new_kwargs\n",
      "\u001b[0;31mValueError\u001b[0m: cannot find widget or abbreviation for argument: 'angle_step'"
     ]
    }
   ],
   "source": [
    "from iturtle import Turtle\n",
    "from ipywidgets import interact\n",
    "\n",
    "# Create a global Turtle instance\n",
    "turtle = Turtle()\n",
    "\n",
    "# Set the background color\n",
    "turtle.bgcolor(\"orange\")\n",
    "\n",
    "def euler_curve(step_size, angle_step, n_steps):\n",
    "    angle = 0\n",
    "    for i in range(n_steps):\n",
    "        turtle.right(int(angle))  # Round angle to the nearest integer\n",
    "        turtle.forward(step_size)\n",
    "        angle += angle_step\n",
    "\n",
    "# euler_curve(20, 1.00, 600)\n",
    "interact(euler_curve, step_size=(20, 1, 60))\n"
   ]
  },
  {
   "cell_type": "markdown",
   "id": "eff224f6",
   "metadata": {},
   "source": [
    "## What is Turtle?\n",
    "\n",
    "Turtle, or [Turtle Graphics](https://docs.python.org/3/library/turtle.html), is a Python library that lets people draw figures. It is called \"Turtle\" because the cursor is a turtle holding a pen, drawing a line as it moves. Originally, turtles were robots, literally drawing figures on paper. Later, Turtle graphics became a key feature of the educational [Logo programming language](https://en.wikipedia.org/wiki/Logo_(programming_language))."
   ]
  },
  {
   "cell_type": "markdown",
   "id": "d12dc91c",
   "metadata": {},
   "source": [
    "## How to run this notebook?\n",
    "\n",
    "There are many ways to run this notebook. Some of them require you to install software to run the notebook itself, and then other software to run the code _in_ the notebook.\n",
    "\n",
    "We wanted to provide a self-contained unit, something you can run without having to install software. \n",
    "\n",
    "The solution is also provided by Jupyter: the nbviewer. \n",
    "\n"
   ]
  },
  {
   "cell_type": "markdown",
   "id": "c49bae97",
   "metadata": {},
   "source": [
    "### nbviewer\n",
    "\n",
    "Jupyter nbviewer is a online service provided by the Jupyter project. It tallows you to view and share Jupyter Notebooks without requiring any local installations. It's particularly useful for quickly sharing notebooks with other people.\n",
    "\n",
    "To use Jupyter nbviewer, you simply need to provide the URL to the notebook hosted on a platform like GitHub or as a direct URL to the .ipynb file. Nbviewer will render and display the notebook in a web-friendly format, making it accessible for viewing and sharing.\n",
    "\n",
    "Here's how you can use Jupyter nbviewer:\n",
    "- Upload your Jupyter Notebook to a public location or make it accessible via a URL. Common platforms for hosting notebooks include GitHub, GitLab, or any web server.\n",
    "- Copy the URL of the notebook you want to share.\n",
    "- Visit the Jupyter nbviewer website: https://nbviewer.jupyter.org/.\n",
    "- Paste the URL of your notebook into the nbviewer's input field and press the \"Go!\" button.\n",
    "\n",
    "Nbviewer will generate a web-based view of your notebook, allowing you to browse its content, code, and visualizations directly in your web browser.\n",
    "\n",
    "You can share the generated nbviewer URL with others, and they will be able to view your notebook without any local installations.\n",
    "\n",
    "### even more about nbviewer\n",
    "\n",
    "Jupyter nbviewer is an online service provided by Project Jupyter that allows users to view Jupyter Notebook files (.ipynb) without the need to install any software locally. It's a web-based service that renders and displays Jupyter Notebook files stored on publicly accessible URLs or GitHub repositories. Here's how it works:\n",
    "\n",
    "- Publicly Accessible Notebooks: To use nbviewer, the Jupyter Notebook files you want to share must be hosted publicly on the internet. This could be on a website, a cloud storage platform, or a public GitHub repository.\n",
    "- Web Interface: Users access nbviewer through a web browser. They don't need to install any Jupyter Notebook software or run a local server.\n",
    "- Enter Notebook URL: Users can input the URL of the Jupyter Notebook they want to view into the nbviewer's web interface.\n",
    "- Render and Display: nbviewer fetches the notebook from the provided URL, renders it into a static, readable format, and displays it in the web browser. Users can view the code, text, and visualizations within the notebook.\n",
    "\n",
    "### Read-Only\n",
    "\n",
    "The notebook displayed in nbviewer is read-only. Users can view and interact with the content, but they can't edit or execute code within the notebook.\n",
    "\n",
    "This makes Jupyter nbviewer a convenient way to share Jupyter Notebook content with others, especially when you want to provide access to notebooks hosted online without requiring viewers to install Jupyter Notebook software locally.\n",
    "\n",
    "Keep in mind that because nbviewer relies on publicly accessible URLs, notebooks stored on private servers or local files won't be viewable unless you share them through a publicly accessible platform like GitHub or a cloud-based storage service.\n",
    "\n",
    "### install iturtle\n",
    "\n",
    "If you want to share and view a Jupyter Notebook that contains code utilizing the iturtle library on Jupyter nbviewer, you would typically need to ensure that the iturtle library is available to nbviewer when rendering the notebook. This means that either:\n",
    "\n",
    "- The iturtle library should be installed and properly configured on the nbviewer server.\n",
    "- The notebook should be self-contained and include the necessary code and dependencies (like iturtle) within the notebook itself.\n",
    "\n",
    "If nbviewer has iturtle installed and properly configured on its server, viewing the notebook should work seamlessly. However, if iturtle is not available on nbviewer's server, the notebook may not render correctly, and you might encounter errors related to missing dependencies.\n",
    "\n",
    "To ensure that the notebook is self-contained and includes all the necessary code and dependencies, you can include the installation and import statements for iturtle within the notebook itself. This way, when someone views the notebook on nbviewer, they'll see the installation instructions and can run the code to install iturtle and use it without needing to install it separately.\n",
    "\n",
    "Here's an example of what you might include in the notebook:\n",
    "\n",
    "```sh\n",
    "# Install iturtle (if not already installed)\n",
    "!pip install iturtle\n",
    "\n",
    "# Import the Turtle class from iturtle\n",
    "from iturtle import Turtle\n",
    "\n",
    "# Now you can use the Turtle class and other functionality\n",
    "```\n",
    "\n",
    "This approach allows viewers to install and use iturtle directly from the notebook interface if they have the necessary permissions. It's a good practice for sharing notebooks that rely on specific libraries, especially when you're not certain whether those libraries are available on the viewer's system.\n",
    "\n",
    "### `!pip`\n",
    "\n",
    "What does `!pip` mean (as opposed to plain `pip`)? The !pip syntax is used in Jupyter Notebooks and Jupyter Lab to run shell commands from within a notebook cell. When you prefix a command with ! in a notebook cell, it indicates that the command should be executed in the underlying system's shell or command prompt, rather than within the Python environment of the notebook.\n",
    "\n",
    "In the context of !pip, it's used to run pip commands from within the notebook cell to manage Python packages. For example, you can use !pip install to install Python packages, !pip uninstall to uninstall packages, and so on.\n",
    "\n",
    "Here's an example of how it's used:\n",
    "\n",
    "```sh\n",
    "# Install a Python package from within a notebook cell\n",
    "!pip install package-name\n",
    "\n",
    "```\n",
    "\n",
    "This allows you to manage packages and interact with the system environment without leaving the notebook interface. It's a convenient way to install, update, or uninstall Python packages when working with Jupyter notebooks.\n",
    "\n",
    "\n"
   ]
  },
  {
   "cell_type": "code",
   "execution_count": null,
   "id": "ffe3184d-e1e1-4a2d-8eb8-9f5a18668b0d",
   "metadata": {},
   "outputs": [],
   "source": []
  }
 ],
 "metadata": {
  "kernelspec": {
   "display_name": "Python 3 (ipykernel)",
   "language": "python",
   "name": "python3"
  }
 },
 "nbformat": 4,
 "nbformat_minor": 5
}
