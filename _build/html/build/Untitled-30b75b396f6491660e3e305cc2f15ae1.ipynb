{
 "cells": [
  {
   "cell_type": "markdown",
   "id": "de59b407-b1d7-45a5-9344-0d83791a22d9",
   "metadata": {},
   "source": [
    "# Turtle Experiment"
   ]
  },
  {
   "cell_type": "markdown",
   "id": "e25b1331-ef30-41a4-aa76-cb4cf7f3ca9c",
   "metadata": {},
   "source": [
    "Hier gaan we proberen om Turtle in een Jupyter Notebook te runnen. Dat wil zeggen: de Turtle code wordt uitgevoerd _enn gevisualiseerd_ in het notebook. Er moet dus niet een apart venster worden geopend. We willen ook gne kernel crashes of dat soort ongein."
   ]
  }
 ],
 "metadata": {
  "kernelspec": {
   "display_name": "Python 3 (ipykernel)",
   "language": "python",
   "name": "python3"
  }
 },
 "nbformat": 4,
 "nbformat_minor": 5
}
