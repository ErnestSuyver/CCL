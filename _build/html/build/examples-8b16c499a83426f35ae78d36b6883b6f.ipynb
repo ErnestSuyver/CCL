{
 "cells": [
  {
   "cell_type": "markdown",
   "id": "de59b407-b1d7-45a5-9344-0d83791a22d9",
   "metadata": {},
   "source": [
    "# Examples"
   ]
  },
  {
   "cell_type": "markdown",
   "id": "e25b1331-ef30-41a4-aa76-cb4cf7f3ca9c",
   "metadata": {},
   "source": [
    "This page contains some example code. You can copy the code and run it in your own development environment. You can also download this page and run it in an online environment where you can play with the code and see its output. Below is explained how to do that. \n",
    "\n",
    "However, it is much more convenient - and fun - to be able to run the code right here in the browser. This is what this page hopes to do...\n",
    "\n",
    "If all is well, a round button is visible at the top of the page. It looks  like an on-off button, and it is. Press it to start running the code.\n",
    "\n",
    "The button should now turn into a menu. The first option is to run all of the the code on this page. Click it. You should now see a visualization of the code  below the code sections.\n",
    "\n",
    "Have fun :partying_face:"
   ]
  },
  {
   "cell_type": "markdown",
   "id": "d96baf5f-76b7-4791-a4a4-6691deacd72b",
   "metadata": {},
   "source": [
    "## Example 1. Colored hexagon\n",
    "\n",
    "This code draws a colored hexagon. "
   ]
  },
  {
   "cell_type": "code",
   "execution_count": null,
   "id": "ae80ef24-9e79-4c4f-963f-dbbfd852d45b",
   "metadata": {},
   "outputs": [
    {
     "data": {
      "application/vnd.jupyter.widget-view+json": {
       "model_id": "90658f54d05643a19444b5f7da7fe75e",
       "version_major": 2,
       "version_minor": 0
      },
      "text/plain": [
       "Canvas(height=250, width=500)"
      ]
     },
     "metadata": {},
     "output_type": "display_data"
    }
   ],
   "source": [
    "#| label: example-1\n",
    "\n",
    "import ipyturtle3 as turtle\n",
    "from ipyturtle3 import hold_canvas\n",
    "myCanvas=turtle.Canvas(width=500,height=250)\n",
    "display(myCanvas)\n",
    "myTS=turtle.TurtleScreen(myCanvas)\n",
    "myTS.clear()\n",
    "\n",
    "# Rainbow benzene\n",
    "colors = ['red', 'purple', 'blue', 'green', 'orange', 'yellow']\n",
    "t = turtle.Turtle(myTS)\n",
    "myTS.bgcolor('black')\n",
    "for x in range(50):\n",
    "    with(hold_canvas(myCanvas)):\n",
    "        t.pencolor(colors[x%6])\n",
    "        t.width(x//100 + 1)\n",
    "        t.forward(x)\n",
    "        t.left(59)"
   ]
  },
  {
   "cell_type": "markdown",
   "id": "21dd7736",
   "metadata": {},
   "source": [
    "## Example 2. Euler curve\n",
    "\n",
    "This code draws a Euler curve."
   ]
  },
  {
   "cell_type": "code",
   "execution_count": null,
   "id": "212a7ec9",
   "metadata": {},
   "outputs": [
    {
     "data": {
      "application/vnd.jupyter.widget-view+json": {
       "model_id": "c86f62b3f41e495494c1e57334fb4008",
       "version_major": 2,
       "version_minor": 0
      },
      "text/plain": [
       "Canvas(height=600, width=800)"
      ]
     },
     "metadata": {},
     "output_type": "display_data"
    },
    {
     "ename": "KeyboardInterrupt",
     "evalue": "",
     "output_type": "error",
     "traceback": [
      "\u001b[0;31m---------------------------------------------------------------------------\u001b[0m",
      "\u001b[0;31mKeyboardInterrupt\u001b[0m                         Traceback (most recent call last)",
      "\u001b[1;32m/Users/jjesuyver/Documents/GitHub/CCL/examples.ipynb Cell 6\u001b[0m line \u001b[0;36m2\n\u001b[1;32m     <a href='vscode-notebook-cell:/Users/jjesuyver/Documents/GitHub/CCL/examples.ipynb#W5sZmlsZQ%3D%3D?line=20'>21</a>\u001b[0m             t\u001b[39m.\u001b[39mforward(step_size)\n\u001b[1;32m     <a href='vscode-notebook-cell:/Users/jjesuyver/Documents/GitHub/CCL/examples.ipynb#W5sZmlsZQ%3D%3D?line=21'>22</a>\u001b[0m             angle \u001b[39m+\u001b[39m\u001b[39m=\u001b[39m angle_step\n\u001b[0;32m---> <a href='vscode-notebook-cell:/Users/jjesuyver/Documents/GitHub/CCL/examples.ipynb#W5sZmlsZQ%3D%3D?line=23'>24</a>\u001b[0m euler_curve(\u001b[39m20\u001b[39;49m, \u001b[39m1.00\u001b[39;49m, \u001b[39m600\u001b[39;49m)\n",
      "\u001b[1;32m/Users/jjesuyver/Documents/GitHub/CCL/examples.ipynb Cell 6\u001b[0m line \u001b[0;36m2\n\u001b[1;32m     <a href='vscode-notebook-cell:/Users/jjesuyver/Documents/GitHub/CCL/examples.ipynb#W5sZmlsZQ%3D%3D?line=17'>18</a>\u001b[0m \u001b[39mfor\u001b[39;00m i \u001b[39min\u001b[39;00m \u001b[39mrange\u001b[39m(n_steps):\n\u001b[1;32m     <a href='vscode-notebook-cell:/Users/jjesuyver/Documents/GitHub/CCL/examples.ipynb#W5sZmlsZQ%3D%3D?line=18'>19</a>\u001b[0m     \u001b[39mwith\u001b[39;00m(hold_canvas(myCanvas)):\n\u001b[0;32m---> <a href='vscode-notebook-cell:/Users/jjesuyver/Documents/GitHub/CCL/examples.ipynb#W5sZmlsZQ%3D%3D?line=19'>20</a>\u001b[0m         t\u001b[39m.\u001b[39;49mright(\u001b[39mint\u001b[39;49m(angle))  \u001b[39m# Round angle to the nearest integer\u001b[39;00m\n\u001b[1;32m     <a href='vscode-notebook-cell:/Users/jjesuyver/Documents/GitHub/CCL/examples.ipynb#W5sZmlsZQ%3D%3D?line=20'>21</a>\u001b[0m         t\u001b[39m.\u001b[39mforward(step_size)\n\u001b[1;32m     <a href='vscode-notebook-cell:/Users/jjesuyver/Documents/GitHub/CCL/examples.ipynb#W5sZmlsZQ%3D%3D?line=21'>22</a>\u001b[0m         angle \u001b[39m+\u001b[39m\u001b[39m=\u001b[39m angle_step\n",
      "File \u001b[0;32m/Library/Frameworks/Python.framework/Versions/3.11/lib/python3.11/turtle.py:1680\u001b[0m, in \u001b[0;36mTNavigator.right\u001b[0;34m(self, angle)\u001b[0m\n\u001b[1;32m   1661\u001b[0m \u001b[39mdef\u001b[39;00m \u001b[39mright\u001b[39m(\u001b[39mself\u001b[39m, angle):\n\u001b[1;32m   1662\u001b[0m     \u001b[39m\"\"\"Turn turtle right by angle units.\u001b[39;00m\n\u001b[1;32m   1663\u001b[0m \n\u001b[1;32m   1664\u001b[0m \u001b[39m    Aliases: right | rt\u001b[39;00m\n\u001b[0;32m   (...)\u001b[0m\n\u001b[1;32m   1678\u001b[0m \u001b[39m    337.0\u001b[39;00m\n\u001b[1;32m   1679\u001b[0m \u001b[39m    \"\"\"\u001b[39;00m\n\u001b[0;32m-> 1680\u001b[0m     \u001b[39mself\u001b[39;49m\u001b[39m.\u001b[39;49m_rotate(\u001b[39m-\u001b[39;49mangle)\n",
      "File \u001b[0;32m/Library/Frameworks/Python.framework/Versions/3.11/lib/python3.11/turtle.py:3294\u001b[0m, in \u001b[0;36mRawTurtle._rotate\u001b[0;34m(self, angle)\u001b[0m\n\u001b[1;32m   3292\u001b[0m     \u001b[39mfor\u001b[39;00m _ \u001b[39min\u001b[39;00m \u001b[39mrange\u001b[39m(steps):\n\u001b[1;32m   3293\u001b[0m         \u001b[39mself\u001b[39m\u001b[39m.\u001b[39m_orient \u001b[39m=\u001b[39m \u001b[39mself\u001b[39m\u001b[39m.\u001b[39m_orient\u001b[39m.\u001b[39mrotate(delta)\n\u001b[0;32m-> 3294\u001b[0m         \u001b[39mself\u001b[39;49m\u001b[39m.\u001b[39;49m_update()\n\u001b[1;32m   3295\u001b[0m \u001b[39mself\u001b[39m\u001b[39m.\u001b[39m_orient \u001b[39m=\u001b[39m neworient\n\u001b[1;32m   3296\u001b[0m \u001b[39mself\u001b[39m\u001b[39m.\u001b[39m_update()\n",
      "File \u001b[0;32m/Library/Frameworks/Python.framework/Versions/3.11/lib/python3.11/turtle.py:2665\u001b[0m, in \u001b[0;36mRawTurtle._update\u001b[0;34m(self)\u001b[0m\n\u001b[1;32m   2663\u001b[0m     \u001b[39mself\u001b[39m\u001b[39m.\u001b[39m_drawturtle()\n\u001b[1;32m   2664\u001b[0m     screen\u001b[39m.\u001b[39m_update()                  \u001b[39m# TurtleScreenBase\u001b[39;00m\n\u001b[0;32m-> 2665\u001b[0m     screen\u001b[39m.\u001b[39;49m_delay(screen\u001b[39m.\u001b[39;49m_delayvalue) \u001b[39m# TurtleScreenBase\u001b[39;00m\n\u001b[1;32m   2666\u001b[0m \u001b[39melse\u001b[39;00m:\n\u001b[1;32m   2667\u001b[0m     \u001b[39mself\u001b[39m\u001b[39m.\u001b[39m_update_data()\n",
      "File \u001b[0;32m/Library/Frameworks/Python.framework/Versions/3.11/lib/python3.11/turtle.py:566\u001b[0m, in \u001b[0;36mTurtleScreenBase._delay\u001b[0;34m(self, delay)\u001b[0m\n\u001b[1;32m    564\u001b[0m \u001b[39mdef\u001b[39;00m \u001b[39m_delay\u001b[39m(\u001b[39mself\u001b[39m, delay):\n\u001b[1;32m    565\u001b[0m     \u001b[39m\"\"\"Delay subsequent canvas actions for delay ms.\"\"\"\u001b[39;00m\n\u001b[0;32m--> 566\u001b[0m     \u001b[39mself\u001b[39;49m\u001b[39m.\u001b[39;49mcv\u001b[39m.\u001b[39;49mafter(delay)\n",
      "File \u001b[0;32m/Library/Frameworks/Python.framework/Versions/3.11/lib/python3.11/site-packages/ipyturtle3/ipyturtle3.py:168\u001b[0m, in \u001b[0;36mCanvas.after\u001b[0;34m(self, ms)\u001b[0m\n\u001b[1;32m    166\u001b[0m \u001b[39mdef\u001b[39;00m \u001b[39mafter\u001b[39m(\u001b[39mself\u001b[39m,ms):\n\u001b[0;32m--> 168\u001b[0m     time\u001b[39m.\u001b[39msleep(ms\u001b[39m*\u001b[39m\u001b[39m0.001\u001b[39m)\n",
      "\u001b[0;31mKeyboardInterrupt\u001b[0m: "
     ]
    }
   ],
   "source": [
    "#| label: example-2\n",
    "\n",
    "import ipyturtle3 as turtle\n",
    "from ipyturtle3 import hold_canvas\n",
    "myCanvas=turtle.Canvas(width=800,height=600)\n",
    "display(myCanvas)\n",
    "myTS=turtle.TurtleScreen(myCanvas)\n",
    "myTS.clear()\n",
    "\n",
    "# colors\n",
    "colors = ['black']\n",
    "t = turtle.Turtle(myTS)\n",
    "myTS.bgcolor('orange')\n",
    "\n",
    "# define the curve\n",
    "def euler_curve(step_size, angle_step, n_steps):\n",
    "    angle = 0\n",
    "    for i in range(n_steps):\n",
    "        with(hold_canvas(myCanvas)):\n",
    "            t.right(int(angle))  # Round angle to the nearest integer\n",
    "            t.forward(step_size)\n",
    "            angle += angle_step\n",
    "\n",
    "euler_curve(20, 1.00, 600)\n"
   ]
  },
  {
   "cell_type": "markdown",
   "id": "a74ae901-addc-4bfd-9bcc-82586bf82d2c",
   "metadata": {},
   "source": [
    "## Example 3. Euler curve with sliders\n",
    "\n",
    "This is the same example as above, but it has sliders, so you can experiment with the variables of the Euler curve: step length, angle, and number of steps.\n"
   ]
  },
  {
   "cell_type": "code",
   "execution_count": null,
   "id": "22bf61a5-74ab-41c7-9c17-31d8d975a125",
   "metadata": {},
   "outputs": [
    {
     "data": {
      "application/vnd.jupyter.widget-view+json": {
       "model_id": "0e48a3be53844e10a52f08ef089dacff",
       "version_major": 2,
       "version_minor": 0
      },
      "text/plain": [
       "Canvas(height=600, width=800)"
      ]
     },
     "metadata": {},
     "output_type": "display_data"
    },
    {
     "data": {
      "application/vnd.jupyter.widget-view+json": {
       "model_id": "843eea77b9e74f238af48a6e7cb4ea83",
       "version_major": 2,
       "version_minor": 0
      },
      "text/plain": [
       "interactive(children=(IntSlider(value=20, description='step_size', max=40, min=2, step=2), FloatSlider(value=1…"
      ]
     },
     "metadata": {},
     "output_type": "display_data"
    },
    {
     "data": {
      "text/plain": [
       "<function __main__.euler_curve(step_size=20, angle_step=1.0, n_steps=60)>"
      ]
     },
     "execution_count": null,
     "metadata": {},
     "output_type": "execute_result"
    }
   ],
   "source": [
    "#| label: example-3\n",
    "\n",
    "import ipyturtle3 as turtle\n",
    "from ipyturtle3 import hold_canvas\n",
    "from ipywidgets import interact\n",
    "\n",
    "myCanvas=turtle.Canvas(width=800,height=600)\n",
    "display(myCanvas)\n",
    "myTS=turtle.TurtleScreen(myCanvas)\n",
    "myTS.clear()\n",
    "\n",
    "# colors\n",
    "colors = ['black']\n",
    "t = turtle.Turtle(myTS)\n",
    "myTS.bgcolor('orange')\n",
    "\n",
    "# define the curve\n",
    "def euler_curve(step_size=20, angle_step=1.00, n_steps=60):\n",
    "    angle = 0\n",
    "    for i in range(n_steps):\n",
    "        with(hold_canvas(myCanvas)):\n",
    "            t.right(int(angle))  # Round angle to the nearest integer\n",
    "            t.forward(step_size)\n",
    "            angle += angle_step\n",
    "\n",
    "# The interact function expects the range to be defined as (min, max, step). I\n",
    "# interact(euler_curve, step_size=(6, 120, 2))\n",
    "interact(euler_curve, step_size=(2, 40, 2), angle_step=(0.1, 2.0, 0.1), n_steps=(0, 1200, 30))\n"
   ]
  },
  {
   "cell_type": "markdown",
   "id": "70cc0037-57af-41f4-8a43-160dcbe1dc08",
   "metadata": {},
   "source": [
    "## Tech talk ⚠ ⚠ ⚠\n",
    "\n",
    "The sections below are quite technical. Read them at your own peril!\n"
   ]
  },
  {
   "cell_type": "markdown",
   "id": "ddcfb73d",
   "metadata": {},
   "source": [
    "### About these examples\n",
    "\n",
    "Example 1 draws a colored hexagon, using Python's _Turtle Graphics_ and _ipyturtle3_ libraries and the _ipycanvas_ JupyterLab widget. \n",
    "\n",
    "Example 2 draws an Euler curver, using Python's _Turtle Graphics_ and _ipyturtle3_ libraries and the _ipycanvas_ Jupyter Lab widget.\n",
    "\n",
    "Example 3 is the same as example 2, but it uses the ipywidgets library to create some sliders, so readers of the notebook can experiment with the variables of the Euler curve: step length, angle, and number of steps."
   ]
  },
  {
   "cell_type": "markdown",
   "id": "46fd0a34",
   "metadata": {},
   "source": [
    "### What is this page?\n",
    "\n",
    "This is a notebook. A notebook is a \"computational document\", that is, a document where text may be combined with code and data, and where code can run and visualized. \n",
    "\n",
    "This makes notebooks useful for our purposes: to share examples of creative coding by providing some explanation and some code, and having the ability to run that code, have the output right there and then, and to edit the code and re-run it."
   ]
  },
  {
   "cell_type": "markdown",
   "id": "d693b63f",
   "metadata": {},
   "source": [
    "### notebooks\n",
    "\n",
    "There is currently only one at this site. It has some elementary examples using the Turtle library from the Python programming language.\n",
    "\n",
    "In the future, we may add more, such as examples using the DrawBot or the Py5 libraries, both in Python.\n",
    "\n",
    "Jupyter Notebooks also support other languages, such as JavaScript. This means we can also add examples using P5.js or D3.js.\n",
    "\n",
    "And there are many more libraries that can be used for visualization or other artistic purposes.\n"
   ]
  },
  {
   "cell_type": "markdown",
   "id": "2012cc04-5512-4953-a53c-4e798cba4a14",
   "metadata": {},
   "source": [
    "### What is Python?\n",
    "\n",
    "[Python](https://www.python.org/) is a programming language. It is a way to tell the computer what you want to do."
   ]
  },
  {
   "cell_type": "markdown",
   "id": "eff224f6",
   "metadata": {},
   "source": [
    "### What is Turtle?\n",
    "\n",
    "Turtle, or [Turtle Graphics](https://docs.python.org/3/library/turtle.html), is a Python library that lets people draw figures. It is called \"Turtle\" because the cursor is a turtle holding a pen, drawing a line as it moves. Originally, turtles were robots, literally drawing figures on paper. Later, Turtle graphics became a key feature of the educational [Logo programming language](https://en.wikipedia.org/wiki/Logo_(programming_language))."
   ]
  },
  {
   "cell_type": "markdown",
   "id": "6ab841c5-35c7-4727-8be2-b65413ec3f95",
   "metadata": {},
   "source": [
    "### What is ipyturtle3?\n",
    "\n",
    "[ipyturtle3](https://pypi.org/project/ipyturtle3/) is a Python library that makes it possible to use _Turtle_ in Jupyter Lab."
   ]
  },
  {
   "cell_type": "markdown",
   "id": "be33bd3b-3f45-42cf-aed0-4f092622cab5",
   "metadata": {},
   "source": [
    "### What is ipycanvas?\n",
    "\n",
    "[ipycanvas](https://ipycanvas.readthedocs.io/en/latest/) is a Python library that makes it possible to use the browser's canvas in a Jupyter Notebook. The [canvas](https://developer.mozilla.org/en-US/docs/Web/HTML/Element/canvas) is basically an area where you can draw or animate anything you like."
   ]
  },
  {
   "cell_type": "markdown",
   "id": "b1d30000-08d5-40b3-bedf-8340cd3a67be",
   "metadata": {},
   "source": [
    "### What is Jupyter Notebook?\n",
    "\n",
    "The notebook on this page is a [Jupyter Notebook](https://jupyter.org/). This is a web-based interactive computing platform. The notebook combines texts with live code and visualizations."
   ]
  },
  {
   "cell_type": "markdown",
   "id": "6c6d350f-0727-4b07-951e-b4e31412cb8f",
   "metadata": {},
   "source": [
    "### What is JupyterLab?\n",
    "\n",
    "[JupyterLab](https://jupyterlab.readthedocs.io/en/latest/) is web-based interface for Jupyter Notebooks. This notebook was created in JupyterLab before it was included in this site."
   ]
  },
  {
   "cell_type": "markdown",
   "id": "d12dc91c",
   "metadata": {},
   "source": [
    "### How to run this notebook?\n",
    "\n",
    "There are many ways to run this notebook. Some of them require you to install software to run the notebook itself, and then other software to run the code _in_ the notebook.\n",
    "\n",
    "**We wanted to provide a self-contained unit, something you can run without having to install software.** 🎈🎈🎈\n",
    "\n",
    "One way to do so is to run the notebook in this very page. At the top of this page we tell you how you can do that.\n",
    "\n",
    "Another option is to run the notebook in Jupyter nbviewer. "
   ]
  },
  {
   "cell_type": "markdown",
   "id": "c49bae97",
   "metadata": {},
   "source": [
    "### nbviewer\n",
    "\n",
    "Jupyter nbviewer is a online service provided by the Jupyter project. It allows you to view and share Jupyter Notebooks without requiring any local installations.\n",
    "\n",
    "To use Jupyter nbviewer, you simply need to provide the URL to the notebook. Nbviewer will render the notebook in a web-friendly format, making it accessible for viewing and sharing.\n",
    "\n",
    "The URL for this notebook is [https://raw.githubusercontent.com/ErnestSuyver/CCL/main/examples.ipynb](https://raw.githubusercontent.com/ErnestSuyver/CCL/main/examples.ipynb). It is a file in a repository on GitHub."
   ]
  },
  {
   "cell_type": "markdown",
   "id": "c3a41637-4af8-4fac-ae44-eb456a838636",
   "metadata": {},
   "source": [
    "### GitHub\n",
    "\n",
    "GitHub is a place to share code. It is named after _git_, a version management system for code."
   ]
  },
  {
   "cell_type": "markdown",
   "id": "80c4635c-df9c-4a50-8478-6d613a2393e4",
   "metadata": {},
   "source": [
    "### Read-Only\n",
    "\n",
    "The notebook on this page is read-only. You can view and interact with the content, but you can't edit or execute code within the notebook. The same is true _Jupyter nbviewer You will need to use one of the other Jupyter tools if you want to do that."
   ]
  },
  {
   "cell_type": "markdown",
   "id": "94aa59ca-e8b8-40a7-9a2a-5042d1aaf3f8",
   "metadata": {},
   "source": [
    "## installing libraries\n",
    "\n",
    "If you want to share and view a Jupyter Notebook that contains code utilizing libraries on Jupyter nbviewer, you would typically need to ensure that those libraries available to nbviewer when rendering the notebook. Ideally, the libraries would be installed and properly configured on the nbviewer server. Alas, this is not always the case. What to do?\n",
    "\n",
    "The alternative is that we provide a self-contained notebook, i.e. a notebook that includes the necessary code and dependencies within the notebook itself. In order to do so, we need to include the installation and import statements for iturtle within the notebook, like this:\n",
    "\n",
    "```sh\n",
    "# Install iturtle (if not already installed)\n",
    "!pip install ipyturtle3\n",
    "\n",
    "# Now you can import the Turtle class from ipyturtle...\n",
    "# ... and use the Turtle class and other functionality\n",
    "\n",
    "# in this case, you will need to install ipycanvas first\n",
    "# using the same type of command\n",
    "\n",
    "```\n",
    "\n",
    "### `!pip`\n",
    "\n",
    "A word about `!pip`. The `!pip` syntax is used in Jupyter Notebooks and Jupyter Lab to run shell commands from within a notebook cell. When you prefix a command with `!` in a notebook cell, it indicates that the command should be executed in the underlying system's shell or command prompt, rather than within the Python environment of the notebook.\n",
    "\n",
    "In the context of `!pip`, it's used to run pip commands from within the notebook cell to manage Python packages. For example, you can use `!pip` install to install Python packages, `!pip uninstall` to uninstall packages, and so on."
   ]
  }
 ],
 "metadata": {
  "kernelspec": {
   "display_name": "Python 3 (ipykernel)",
   "language": "python",
   "name": "python3"
  }
 },
 "nbformat": 4,
 "nbformat_minor": 5
}
