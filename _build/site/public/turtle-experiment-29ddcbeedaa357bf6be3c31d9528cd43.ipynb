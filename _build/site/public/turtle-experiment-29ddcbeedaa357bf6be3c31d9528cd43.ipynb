{
 "cells": [
  {
   "cell_type": "markdown",
   "id": "de59b407-b1d7-45a5-9344-0d83791a22d9",
   "metadata": {},
   "source": [
    "# Turtle Experiment"
   ]
  },
  {
   "cell_type": "markdown",
   "id": "e25b1331-ef30-41a4-aa76-cb4cf7f3ca9c",
   "metadata": {},
   "source": [
    "Hier gaan we proberen om Turtle in een Jupyter Notebook te runnen. Dat wil zeggen: de Turtle code wordt uitgevoerd _en gevisualiseerd_ in het notebook. Er moet dus niet een apart venster worden geopend. We willen ook geen kernel crashes of dat soort ongein."
   ]
  },
  {
   "cell_type": "code",
   "execution_count": null,
   "id": "812ad050-bc36-478b-802f-cdf49a5260e6",
   "metadata": {},
   "outputs": [],
   "source": []
  }
 ],
 "metadata": {
  "kernelspec": {
   "display_name": "Python 3 (ipykernel)",
   "language": "python",
   "name": "python3"
  }
 },
 "nbformat": 4,
 "nbformat_minor": 5
}
