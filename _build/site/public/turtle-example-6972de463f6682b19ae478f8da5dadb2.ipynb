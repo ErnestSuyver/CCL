{
 "cells": [
  {
   "cell_type": "markdown",
   "id": "de59b407-b1d7-45a5-9344-0d83791a22d9",
   "metadata": {},
   "source": [
    "# Turtle Example"
   ]
  },
  {
   "cell_type": "markdown",
   "id": "e25b1331-ef30-41a4-aa76-cb4cf7f3ca9c",
   "metadata": {},
   "source": [
    "This is a Jupyter Notebook. A notebook is a \"computational document\", that is, a document where text may be combined with code and data, and where code can run and visualized. "
   ]
  },
  {
   "cell_type": "code",
   "execution_count": 1,
   "id": "212a7ec9",
   "metadata": {},
   "outputs": [
    {
     "data": {
      "application/vnd.jupyter.widget-view+json": {
       "model_id": "60dd66f46a594ee2a0e4551b639d7547",
       "version_major": 2,
       "version_minor": 0
      },
      "image/svg+xml": [
       "<svg xmlns=\"http://www.w3.org/2000/svg\" viewBox=\"0 0 801 501\" width=\"800\" height=\"500\"><rect width=\"800\" height=\"500\" fill=\"white\"/></svg>"
      ],
      "text/plain": [
       "Turtle()"
      ]
     },
     "metadata": {},
     "output_type": "display_data"
    }
   ],
   "source": [
    "from iturtle import Turtle\n",
    "\n",
    "# Create a global Turtle instance\n",
    "turtle = Turtle()\n",
    "\n",
    "# Set the background color\n",
    "turtle.bgcolor(\"orange\")\n",
    "\n",
    "def euler_curve(step_size, angle_step, n_steps):\n",
    "    angle = 0\n",
    "    for i in range(n_steps):\n",
    "        turtle.right(int(angle))  # Round angle to the nearest integer\n",
    "        turtle.forward(step_size)\n",
    "        angle += angle_step\n",
    "\n",
    "euler_curve(20, 1.00, 600)\n"
   ]
  }
 ],
 "metadata": {
  "kernelspec": {
   "display_name": "Python 3 (ipykernel)",
   "language": "python",
   "name": "python3"
  },
  "language_info": {
   "codemirror_mode": {
    "name": "ipython",
    "version": 3
   },
   "file_extension": ".py",
   "mimetype": "text/x-python",
   "name": "python",
   "nbconvert_exporter": "python",
   "pygments_lexer": "ipython3",
   "version": "3.11.0"
  }
 },
 "nbformat": 4,
 "nbformat_minor": 5
}
