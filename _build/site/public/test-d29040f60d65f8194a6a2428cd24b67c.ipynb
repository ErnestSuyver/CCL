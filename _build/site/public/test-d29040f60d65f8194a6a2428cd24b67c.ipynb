{
 "cells": [
  {
   "cell_type": "markdown",
   "id": "ba619e7e-5d39-4369-9c5e-80ca91368f90",
   "metadata": {},
   "source": [
    "# test"
   ]
  },
  {
   "cell_type": "code",
   "execution_count": null,
   "id": "1e007bb6-8916-40cb-90eb-c3701aa42b46",
   "metadata": {},
   "outputs": [
    {
     "data": {
      "application/vnd.jupyter.widget-view+json": {
       "model_id": "3fbd9d9c095749b2ae24fb2647c55a79",
       "version_major": 2,
       "version_minor": 0
      },
      "image/svg+xml": [
       "<svg xmlns=\"http://www.w3.org/2000/svg\" viewBox=\"0 0 801 501\" width=\"800\" height=\"500\"><rect width=\"800\" height=\"500\" fill=\"white\"/></svg>"
      ],
      "text/plain": [
       "Turtle()"
      ]
     },
     "metadata": {},
     "output_type": "display_data"
    }
   ],
   "source": [
    "from iturtle import Turtle\n",
    "\n",
    "turtle = Turtle()\n",
    "\n",
    "turtle.speed(10)\n",
    "turtle.bgcolor('black')\n",
    "\n",
    "r, g, b = 255, 0, 0\n",
    "\n",
    "for i in range(255):\n",
    "    if i < 255//3:\n",
    "        g += 3\n",
    "    elif i < (255*2)//3:\n",
    "        r -= 3\n",
    "    elif i < 255:\n",
    "        b += 3\n",
    "    elif i < (255*4)//3:\n",
    "        g -= 3\n",
    "    elif i < (255*5)//3:\n",
    "        r += 3\n",
    "    else:\n",
    "        b -= 3\n",
    "        \n",
    "    turtle.forward(50+i)\n",
    "    turtle.right(91)\n",
    "    turtle.pencolor(r, g, b)"
   ]
  },
  {
   "cell_type": "code",
   "execution_count": null,
   "id": "c636306b-7644-4167-be5b-76649a1fd709",
   "metadata": {},
   "outputs": [
    {
     "data": {
      "application/vnd.jupyter.widget-view+json": {
       "model_id": "43a0e552a1734a21b95e0fc2edd7289d",
       "version_major": 2,
       "version_minor": 0
      },
      "image/svg+xml": [
       "<svg xmlns=\"http://www.w3.org/2000/svg\" viewBox=\"0 0 801 501\" width=\"800\" height=\"500\"><rect width=\"800\" height=\"500\" fill=\"white\"/></svg>"
      ],
      "text/plain": [
       "Turtle()"
      ]
     },
     "metadata": {},
     "output_type": "display_data"
    }
   ],
   "source": [
    "from iturtle import Turtle\n",
    "\n",
    "turtle = Turtle()\n",
    "turtle.pencolor(\"gold\")\n",
    "\n",
    "for i in range(36):\n",
    "    turtle.forward(300)\n",
    "    turtle.left(170)"
   ]
  },
  {
   "cell_type": "code",
   "execution_count": null,
   "id": "4bb31cab-6573-4dcd-be83-284bedfa7a58",
   "metadata": {},
   "outputs": [
    {
     "data": {
      "application/vnd.jupyter.widget-view+json": {
       "model_id": "8f4b3e5fafe74ccbb46d0624fad1abd5",
       "version_major": 2,
       "version_minor": 0
      },
      "image/svg+xml": [
       "<svg xmlns=\"http://www.w3.org/2000/svg\" viewBox=\"0 0 801 501\" width=\"800\" height=\"500\"><rect width=\"800\" height=\"500\" fill=\"white\"/></svg>"
      ],
      "text/plain": [
       "Turtle()"
      ]
     },
     "metadata": {},
     "output_type": "display_data"
    }
   ],
   "source": [
    "from iturtle import Turtle\n",
    "\n",
    "turtle = Turtle()\n",
    "\n",
    "colors=[\"red\", \"blue\", \"yellow\", \"brown\", \"black\", \"purple\", \"green\"]\n",
    "\n",
    "turtle.speed(1)\n",
    "\n",
    "turtle.penup()\n",
    "turtle.forward(20)\n",
    "turtle.left(90)\n",
    "turtle.forward(140)\n",
    "turtle.right(90)\n",
    "turtle.pendown()\n",
    "\n",
    "for i in range (0,18):\n",
    "    turtle.pencolor(colors[i%7])\n",
    "    turtle.right(20)\n",
    "    turtle.forward(50)\n",
    "    \n",
    "turtle.right(180)\n",
    "turtle.home()"
   ]
  },
  {
   "cell_type": "code",
   "execution_count": null,
   "id": "8fbf4c19-01c8-4778-8752-d5eeb03b03e4",
   "metadata": {},
   "outputs": [],
   "source": []
  }
 ],
 "metadata": {
  "kernelspec": {
   "display_name": "Python 3 (ipykernel)",
   "language": "python",
   "name": "python3"
  }
 },
 "nbformat": 4,
 "nbformat_minor": 5
}
