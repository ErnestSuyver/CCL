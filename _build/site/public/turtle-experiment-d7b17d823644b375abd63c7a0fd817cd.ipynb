{
 "cells": [
  {
   "cell_type": "markdown",
   "id": "de59b407-b1d7-45a5-9344-0d83791a22d9",
   "metadata": {},
   "source": [
    "# Experiments (old)"
   ]
  },
  {
   "cell_type": "markdown",
   "id": "e25b1331-ef30-41a4-aa76-cb4cf7f3ca9c",
   "metadata": {},
   "source": [
    "Hier gaan we proberen om Turtle in een Jupyter Notebook te runnen. Dat wil zeggen: de Turtle code wordt uitgevoerd _en gevisualiseerd_ in het notebook. Er moet dus niet een apart venster worden geopend. We willen ook geen kernel crashes of dat soort ongein."
   ]
  },
  {
   "cell_type": "code",
   "execution_count": null,
   "id": "812ad050-bc36-478b-802f-cdf49a5260e6",
   "metadata": {},
   "outputs": [
    {
     "data": {
      "application/vnd.jupyter.widget-view+json": {
       "model_id": "b19a089dae4c4c93aaa77e1756f1bcc1",
       "version_major": 2,
       "version_minor": 0
      },
      "text/plain": [
       "Turtle()"
      ]
     },
     "execution_count": null,
     "metadata": {},
     "output_type": "execute_result"
    }
   ],
   "source": [
    "from ipyturtle import Turtle\n",
    "t = Turtle()\n",
    "t"
   ]
  },
  {
   "cell_type": "code",
   "execution_count": 2,
   "id": "bd7f60f6-d332-4721-a3e1-1967f7822fc6",
   "metadata": {},
   "outputs": [
    {
     "data": {
      "application/vnd.jupyter.widget-view+json": {
       "model_id": "71412ad4ffce471fb5e48ce779d8eed7",
       "version_major": 2,
       "version_minor": 0
      },
      "image/svg+xml": [
       "<svg xmlns=\"http://www.w3.org/2000/svg\" viewBox=\"0 0 801 501\" width=\"800\" height=\"500\"><rect width=\"800\" height=\"500\" fill=\"white\"/></svg>"
      ],
      "text/plain": [
       "Turtle()"
      ]
     },
     "metadata": {},
     "output_type": "display_data"
    },
    {
     "ename": "AttributeError",
     "evalue": "'Turtle' object has no attribute 'setup'",
     "output_type": "error",
     "traceback": [
      "\u001b[0;31m---------------------------------------------------------------------------\u001b[0m",
      "\u001b[0;31mAttributeError\u001b[0m                            Traceback (most recent call last)",
      "\u001b[1;32m/Users/jjesuyver/Documents/GitHub/CCL/turtle-experiment.ipynb Cell 4\u001b[0m line \u001b[0;36m2\n\u001b[1;32m     <a href='vscode-notebook-cell:/Users/jjesuyver/Documents/GitHub/CCL/turtle-experiment.ipynb#W3sZmlsZQ%3D%3D?line=22'>23</a>\u001b[0m         angle \u001b[39m+\u001b[39m\u001b[39m=\u001b[39m angle_step\n\u001b[1;32m     <a href='vscode-notebook-cell:/Users/jjesuyver/Documents/GitHub/CCL/turtle-experiment.ipynb#W3sZmlsZQ%3D%3D?line=24'>25</a>\u001b[0m \u001b[39m# Call set_theme before drawing the Euler curve\u001b[39;00m\n\u001b[0;32m---> <a href='vscode-notebook-cell:/Users/jjesuyver/Documents/GitHub/CCL/turtle-experiment.ipynb#W3sZmlsZQ%3D%3D?line=25'>26</a>\u001b[0m set_theme()\n\u001b[1;32m     <a href='vscode-notebook-cell:/Users/jjesuyver/Documents/GitHub/CCL/turtle-experiment.ipynb#W3sZmlsZQ%3D%3D?line=26'>27</a>\u001b[0m euler_curve(\u001b[39m40\u001b[39m, \u001b[39m1.00\u001b[39m, \u001b[39m600\u001b[39m)\n",
      "\u001b[1;32m/Users/jjesuyver/Documents/GitHub/CCL/turtle-experiment.ipynb Cell 4\u001b[0m line \u001b[0;36m1\n\u001b[1;32m      <a href='vscode-notebook-cell:/Users/jjesuyver/Documents/GitHub/CCL/turtle-experiment.ipynb#W3sZmlsZQ%3D%3D?line=2'>3</a>\u001b[0m \u001b[39mdef\u001b[39;00m \u001b[39mset_theme\u001b[39m(canvas_width\u001b[39m=\u001b[39m\u001b[39m800\u001b[39m, canvas_height\u001b[39m=\u001b[39m\u001b[39m800\u001b[39m,\n\u001b[1;32m      <a href='vscode-notebook-cell:/Users/jjesuyver/Documents/GitHub/CCL/turtle-experiment.ipynb#W3sZmlsZQ%3D%3D?line=3'>4</a>\u001b[0m               canvas_color\u001b[39m=\u001b[39m(\u001b[39m232\u001b[39m\u001b[39m/\u001b[39m\u001b[39m255\u001b[39m, \u001b[39m210\u001b[39m\u001b[39m/\u001b[39m\u001b[39m255\u001b[39m, \u001b[39m210\u001b[39m\u001b[39m/\u001b[39m\u001b[39m255\u001b[39m),\n\u001b[1;32m      <a href='vscode-notebook-cell:/Users/jjesuyver/Documents/GitHub/CCL/turtle-experiment.ipynb#W3sZmlsZQ%3D%3D?line=4'>5</a>\u001b[0m               pen_color\u001b[39m=\u001b[39m(\u001b[39m94\u001b[39m\u001b[39m/\u001b[39m\u001b[39m255\u001b[39m, \u001b[39m71\u001b[39m\u001b[39m/\u001b[39m\u001b[39m255\u001b[39m, \u001b[39m69\u001b[39m\u001b[39m/\u001b[39m\u001b[39m255\u001b[39m),\n\u001b[1;32m      <a href='vscode-notebook-cell:/Users/jjesuyver/Documents/GitHub/CCL/turtle-experiment.ipynb#W3sZmlsZQ%3D%3D?line=5'>6</a>\u001b[0m               thickness\u001b[39m=\u001b[39m\u001b[39m1\u001b[39m,\n\u001b[1;32m      <a href='vscode-notebook-cell:/Users/jjesuyver/Documents/GitHub/CCL/turtle-experiment.ipynb#W3sZmlsZQ%3D%3D?line=6'>7</a>\u001b[0m               speed_value\u001b[39m=\u001b[39m\u001b[39m0\u001b[39m,\n\u001b[1;32m      <a href='vscode-notebook-cell:/Users/jjesuyver/Documents/GitHub/CCL/turtle-experiment.ipynb#W3sZmlsZQ%3D%3D?line=7'>8</a>\u001b[0m               hide_turtle\u001b[39m=\u001b[39m\u001b[39mTrue\u001b[39;00m):\n\u001b[1;32m      <a href='vscode-notebook-cell:/Users/jjesuyver/Documents/GitHub/CCL/turtle-experiment.ipynb#W3sZmlsZQ%3D%3D?line=8'>9</a>\u001b[0m     turtle \u001b[39m=\u001b[39m Turtle()\n\u001b[0;32m---> <a href='vscode-notebook-cell:/Users/jjesuyver/Documents/GitHub/CCL/turtle-experiment.ipynb#W3sZmlsZQ%3D%3D?line=9'>10</a>\u001b[0m     turtle\u001b[39m.\u001b[39;49msetup(width\u001b[39m=\u001b[39mcanvas_width, height\u001b[39m=\u001b[39mcanvas_height)\n\u001b[1;32m     <a href='vscode-notebook-cell:/Users/jjesuyver/Documents/GitHub/CCL/turtle-experiment.ipynb#W3sZmlsZQ%3D%3D?line=10'>11</a>\u001b[0m     turtle\u001b[39m.\u001b[39mbgcolor(canvas_color)\n\u001b[1;32m     <a href='vscode-notebook-cell:/Users/jjesuyver/Documents/GitHub/CCL/turtle-experiment.ipynb#W3sZmlsZQ%3D%3D?line=11'>12</a>\u001b[0m     turtle\u001b[39m.\u001b[39mcolor(pen_color)\n",
      "\u001b[0;31mAttributeError\u001b[0m: 'Turtle' object has no attribute 'setup'"
     ]
    }
   ],
   "source": [
    "from iturtle import Turtle\n",
    "\n",
    "def set_theme(canvas_width=800, canvas_height=800,\n",
    "              canvas_color=(232/255, 210/255, 210/255),\n",
    "              pen_color=(94/255, 71/255, 69/255),\n",
    "              thickness=1,\n",
    "              speed_value=0,\n",
    "              hide_turtle=True):\n",
    "    turtle = Turtle()\n",
    "    turtle.setup(width=canvas_width, height=canvas_height)\n",
    "    turtle.bgcolor(canvas_color)\n",
    "    turtle.color(pen_color)\n",
    "    turtle.width(thickness)\n",
    "    turtle.speed(speed_value)\n",
    "    if hide_turtle:\n",
    "        turtle.hideturtle()\n",
    "\n",
    "def euler_curve(step_size, angle_step, n_steps):\n",
    "    angle = 0\n",
    "    for i in range(n_steps):\n",
    "        turtle.right(angle)\n",
    "        turtle.forward(step_size)\n",
    "        angle += angle_step\n",
    "\n",
    "# Call set_theme before drawing the Euler curve\n",
    "set_theme()\n",
    "euler_curve(40, 1.00, 600)\n"
   ]
  },
  {
   "cell_type": "code",
   "execution_count": null,
   "id": "38dc6eaa-5184-46d4-9f9b-7c452d21129b",
   "metadata": {},
   "outputs": [
    {
     "data": {
      "application/vnd.jupyter.widget-view+json": {
       "model_id": "979a006becf742e4bbd57fc5ba6359a3",
       "version_major": 2,
       "version_minor": 0
      },
      "image/svg+xml": [
       "<svg xmlns=\"http://www.w3.org/2000/svg\" viewBox=\"0 0 801 501\" width=\"800\" height=\"500\"><rect width=\"800\" height=\"500\" fill=\"white\"/></svg>"
      ],
      "text/plain": [
       "Turtle()"
      ]
     },
     "metadata": {},
     "output_type": "display_data"
    }
   ],
   "source": [
    "from iturtle import Turtle\n",
    "turtle = Turtle()\n",
    "turtle.forward(100)"
   ]
  },
  {
   "cell_type": "code",
   "execution_count": null,
   "id": "311e5a48-5d19-4a8f-8b3b-8ca88b460bc4",
   "metadata": {},
   "outputs": [
    {
     "name": "stdout",
     "output_type": "stream",
     "text": [
      "Package                                           Version\n",
      "------------------------------------------------- -----------\n",
      "absl-py                                           1.4.0\n",
      "altair                                            5.1.1\n",
      "anyio                                             3.6.2\n",
      "appnope                                           0.1.3\n",
      "argon2-cffi                                       21.3.0\n",
      "argon2-cffi-bindings                              21.2.0\n",
      "arrow                                             1.2.3\n",
      "asteval                                           0.9.31\n",
      "asttokens                                         2.2.1\n",
      "astunparse                                        1.6.3\n",
      "async-lru                                         2.0.4\n",
      "attrs                                             22.2.0\n",
      "autopep8                                          2.0.2\n",
      "av                                                10.0.0\n",
      "Babel                                             2.12.1\n",
      "backcall                                          0.2.0\n",
      "bcrypt                                            4.0.1\n",
      "beautifulsoup4                                    4.11.1\n",
      "binaryornot                                       0.4.4\n",
      "bleach                                            5.0.1\n",
      "booleanOperations                                 0.9.0\n",
      "build                                             0.10.0\n",
      "CacheControl                                      0.13.1\n",
      "cachetools                                        5.3.0\n",
      "camelcase                                         0.2\n",
      "certifi                                           2022.12.7\n",
      "cffi                                              1.15.1\n",
      "chardet                                           5.2.0\n",
      "charset-normalizer                                2.1.1\n",
      "cite2c                                            0.2.1\n",
      "cleo                                              2.0.1\n",
      "click                                             8.1.3\n",
      "cmake                                             3.25.0\n",
      "comm                                              0.1.2\n",
      "contourpy                                         1.0.6\n",
      "cookiecutter                                      2.3.0\n",
      "crashtest                                         0.4.1\n",
      "cryptography                                      41.0.3\n",
      "cycler                                            0.11.0\n",
      "debugpy                                           1.6.4\n",
      "decorator                                         5.1.1\n",
      "defusedxml                                        0.7.1\n",
      "dill                                              0.3.7\n",
      "distlib                                           0.3.7\n",
      "dnspython                                         2.2.1\n",
      "drawBot                                           3.130\n",
      "dulwich                                           0.21.6\n",
      "EasyProcess                                       1.1\n",
      "entrypoint2                                       1.1\n",
      "entrypoints                                       0.4\n",
      "execnb                                            0.1.4\n",
      "executing                                         1.2.0\n",
      "fastcore                                          1.5.27\n",
      "fastjsonschema                                    2.16.2\n",
      "filelock                                          3.12.4\n",
      "Flask                                             2.2.2\n",
      "flatbuffers                                       23.3.3\n",
      "fonttools                                         4.38.0\n",
      "fqdn                                              1.5.1\n",
      "gast                                              0.4.0\n",
      "ghapi                                             1.0.3\n",
      "glcontext                                         2.4.0\n",
      "google-auth                                       2.17.1\n",
      "google-auth-oauthlib                              1.0.0\n",
      "google-pasta                                      0.2.0\n",
      "grpcio                                            1.53.0\n",
      "h5py                                              3.8.0\n",
      "idna                                              3.4\n",
      "imageio                                           2.26.0\n",
      "imageio-ffmpeg                                    0.4.8\n",
      "importlib-metadata                                6.8.0\n",
      "installer                                         0.7.0\n",
      "ipykernel                                         6.19.4\n",
      "ipython                                           8.7.0\n",
      "ipython-genutils                                  0.2.0\n",
      "ipyturtle                                         0.2.4\n",
      "ipywidgets                                        8.0.3\n",
      "isoduration                                       20.11.0\n",
      "itsdangerous                                      2.1.2\n",
      "iturtle                                           0.1.2\n",
      "jaraco.classes                                    3.3.0\n",
      "jax                                               0.4.8\n",
      "jedi                                              0.18.2\n",
      "Jinja2                                            3.1.2\n",
      "JPype1                                            1.4.1\n",
      "json5                                             0.9.14\n",
      "jsonpointer                                       2.3\n",
      "jsonschema                                        4.19.1\n",
      "jsonschema-specifications                         2023.7.1\n",
      "jupyter                                           1.0.0\n",
      "jupyter_client                                    7.4.8\n",
      "jupyter-console                                   6.4.4\n",
      "jupyter-contrib-core                              0.4.2\n",
      "jupyter-contrib-nbextensions                      0.7.0\n",
      "jupyter_core                                      5.1.0\n",
      "jupyter-events                                    0.7.0\n",
      "jupyter-highlight-selected-word                   0.2.0\n",
      "jupyter-lsp                                       2.2.0\n",
      "jupyter-nbextensions-configurator                 0.6.1\n",
      "jupyter_server                                    2.7.3\n",
      "jupyter_server_terminals                          0.4.3\n",
      "jupyterlab                                        4.0.6\n",
      "jupyterlab_myst                                   2.0.2\n",
      "jupyterlab-pygments                               0.2.2\n",
      "jupyterlab_server                                 2.25.0\n",
      "jupyterlab-widgets                                3.0.4\n",
      "kaleido                                           0.2.1\n",
      "keras                                             2.12.0\n",
      "keyring                                           24.2.0\n",
      "kiwisolver                                        1.4.4\n",
      "libclang                                          16.0.0\n",
      "line-profiler                                     4.0.3\n",
      "lxml                                              4.9.2\n",
      "Markdown                                          3.4.3\n",
      "markdown-it-py                                    3.0.0\n",
      "MarkupSafe                                        2.1.1\n",
      "matplotlib                                        3.6.2\n",
      "matplotlib-inline                                 0.1.6\n",
      "mdurl                                             0.1.2\n",
      "mistune                                           2.0.4\n",
      "ml-dtypes                                         0.0.4\n",
      "moderngl                                          5.8.2\n",
      "more-itertools                                    10.1.0\n",
      "MouseInfo                                         0.1.3\n",
      "msgpack                                           1.0.5\n",
      "mss                                               9.0.1\n",
      "multiprocess                                      0.70.15\n",
      "mysql-connector-python                            8.0.31\n",
      "nbclassic                                         0.4.8\n",
      "nbclient                                          0.7.2\n",
      "nbconvert                                         7.2.7\n",
      "nbdev                                             2.3.9\n",
      "nbformat                                          5.7.1\n",
      "nest-asyncio                                      1.5.6\n",
      "nose                                              1.3.7\n",
      "notebook                                          6.5.2\n",
      "notebook_shim                                     0.2.2\n",
      "numpy                                             1.23.5\n",
      "oauthlib                                          3.2.2\n",
      "opencv-python                                     4.8.0.74\n",
      "opensimplex                                       0.4.4\n",
      "opt-einsum                                        3.3.0\n",
      "overrides                                         7.4.0\n",
      "packaging                                         21.3\n",
      "pandas                                            1.5.2\n",
      "pandocfilters                                     1.5.0\n",
      "paramiko                                          3.3.1\n",
      "parso                                             0.8.3\n",
      "pdftotext                                         2.2.2\n",
      "perlin-noise                                      1.12\n",
      "pexpect                                           4.8.0\n",
      "pickleshare                                       0.7.5\n",
      "Pillow                                            9.3.0\n",
      "pip                                               23.2.1\n",
      "pixelsort                                         1.0.1\n",
      "pkginfo                                           1.9.6\n",
      "platformdirs                                      3.10.0\n",
      "plotly                                            5.14.0\n",
      "pnoise                                            0.2.0\n",
      "poetry                                            1.6.1\n",
      "poetry-core                                       1.7.0\n",
      "poetry-plugin-export                              1.5.0\n",
      "pooch                                             1.7.0\n",
      "prometheus-client                                 0.15.0\n",
      "prompt-toolkit                                    3.0.36\n",
      "protobuf                                          4.22.1\n",
      "psutil                                            5.9.4\n",
      "ptyprocess                                        0.7.0\n",
      "pure-eval                                         0.2.2\n",
      "py5                                               0.9.0a0\n",
      "py5jupyter                                        0.2.0a0\n",
      "pyasn1                                            0.4.8\n",
      "pyasn1-modules                                    0.2.8\n",
      "PyAutoGUI                                         0.9.54\n",
      "pycairo                                           1.23.0\n",
      "pyclipper                                         1.3.0.post5\n",
      "pycodestyle                                       2.10.0\n",
      "pycparser                                         2.21\n",
      "pygame                                            2.3.0\n",
      "PyGetWindow                                       0.0.9\n",
      "pygifsicle                                        1.0.7\n",
      "pyglet                                            1.2.4\n",
      "Pygments                                          2.13.0\n",
      "pymongo                                           4.3.3\n",
      "PyMsgBox                                          1.0.9\n",
      "pymunk                                            6.4.0\n",
      "PyNaCl                                            1.5.0\n",
      "pyobjc                                            9.1.1\n",
      "pyobjc-core                                       9.1.1\n",
      "pyobjc-framework-Accessibility                    9.1.1\n",
      "pyobjc-framework-Accounts                         9.1.1\n",
      "pyobjc-framework-AddressBook                      9.1.1\n",
      "pyobjc-framework-AdServices                       9.1.1\n",
      "pyobjc-framework-AdSupport                        9.1.1\n",
      "pyobjc-framework-AppleScriptKit                   9.1.1\n",
      "pyobjc-framework-AppleScriptObjC                  9.1.1\n",
      "pyobjc-framework-ApplicationServices              9.1.1\n",
      "pyobjc-framework-AppTrackingTransparency          9.1.1\n",
      "pyobjc-framework-AudioVideoBridging               9.1.1\n",
      "pyobjc-framework-AuthenticationServices           9.1.1\n",
      "pyobjc-framework-AutomaticAssessmentConfiguration 9.1.1\n",
      "pyobjc-framework-Automator                        9.1.1\n",
      "pyobjc-framework-AVFoundation                     9.1.1\n",
      "pyobjc-framework-AVKit                            9.1.1\n",
      "pyobjc-framework-BusinessChat                     9.1.1\n",
      "pyobjc-framework-CalendarStore                    9.1.1\n",
      "pyobjc-framework-CallKit                          9.1.1\n",
      "pyobjc-framework-CFNetwork                        9.1.1\n",
      "pyobjc-framework-ClassKit                         9.1.1\n",
      "pyobjc-framework-CloudKit                         9.1.1\n",
      "pyobjc-framework-Cocoa                            9.1.1\n",
      "pyobjc-framework-Collaboration                    9.1.1\n",
      "pyobjc-framework-ColorSync                        9.1.1\n",
      "pyobjc-framework-Contacts                         9.1.1\n",
      "pyobjc-framework-ContactsUI                       9.1.1\n",
      "pyobjc-framework-CoreAudio                        9.1.1\n",
      "pyobjc-framework-CoreAudioKit                     9.1.1\n",
      "pyobjc-framework-CoreBluetooth                    9.1.1\n",
      "pyobjc-framework-CoreData                         9.1.1\n",
      "pyobjc-framework-CoreHaptics                      9.1.1\n",
      "pyobjc-framework-CoreLocation                     9.1.1\n",
      "pyobjc-framework-CoreMedia                        9.1.1\n",
      "pyobjc-framework-CoreMediaIO                      9.1.1\n",
      "pyobjc-framework-CoreMIDI                         9.1.1\n",
      "pyobjc-framework-CoreML                           9.1.1\n",
      "pyobjc-framework-CoreMotion                       9.1.1\n",
      "pyobjc-framework-CoreServices                     9.1.1\n",
      "pyobjc-framework-CoreSpotlight                    9.1.1\n",
      "pyobjc-framework-CoreText                         9.1.1\n",
      "pyobjc-framework-CoreWLAN                         9.1.1\n",
      "pyobjc-framework-CryptoTokenKit                   9.1.1\n",
      "pyobjc-framework-DeviceCheck                      9.1.1\n",
      "pyobjc-framework-DictionaryServices               9.1.1\n",
      "pyobjc-framework-DiscRecording                    9.1.1\n",
      "pyobjc-framework-DiscRecordingUI                  9.1.1\n",
      "pyobjc-framework-DiskArbitration                  9.1.1\n",
      "pyobjc-framework-DVDPlayback                      9.1.1\n",
      "pyobjc-framework-EventKit                         9.1.1\n",
      "pyobjc-framework-ExceptionHandling                9.1.1\n",
      "pyobjc-framework-ExecutionPolicy                  9.1.1\n",
      "pyobjc-framework-ExternalAccessory                9.1.1\n",
      "pyobjc-framework-FileProvider                     9.1.1\n",
      "pyobjc-framework-FileProviderUI                   9.1.1\n",
      "pyobjc-framework-FinderSync                       9.1.1\n",
      "pyobjc-framework-FSEvents                         9.1.1\n",
      "pyobjc-framework-GameCenter                       9.1.1\n",
      "pyobjc-framework-GameController                   9.1.1\n",
      "pyobjc-framework-GameKit                          9.1.1\n",
      "pyobjc-framework-GameplayKit                      9.1.1\n",
      "pyobjc-framework-ImageCaptureCore                 9.1.1\n",
      "pyobjc-framework-IMServicePlugIn                  9.1.1\n",
      "pyobjc-framework-InputMethodKit                   9.1.1\n",
      "pyobjc-framework-InstallerPlugins                 9.1.1\n",
      "pyobjc-framework-InstantMessage                   9.1.1\n",
      "pyobjc-framework-Intents                          9.1.1\n",
      "pyobjc-framework-IOBluetooth                      9.1.1\n",
      "pyobjc-framework-IOBluetoothUI                    9.1.1\n",
      "pyobjc-framework-IOSurface                        9.1.1\n",
      "pyobjc-framework-iTunesLibrary                    9.1.1\n",
      "pyobjc-framework-KernelManagement                 9.1.1\n",
      "pyobjc-framework-LatentSemanticMapping            9.1.1\n",
      "pyobjc-framework-LaunchServices                   9.1.1\n",
      "pyobjc-framework-libdispatch                      9.1.1\n",
      "pyobjc-framework-libxpc                           9.1.1\n",
      "pyobjc-framework-LinkPresentation                 9.1.1\n",
      "pyobjc-framework-LocalAuthentication              9.1.1\n",
      "pyobjc-framework-MapKit                           9.1.1\n",
      "pyobjc-framework-MediaAccessibility               9.1.1\n",
      "pyobjc-framework-MediaLibrary                     9.1.1\n",
      "pyobjc-framework-MediaPlayer                      9.1.1\n",
      "pyobjc-framework-MediaToolbox                     9.1.1\n",
      "pyobjc-framework-Metal                            9.1.1\n",
      "pyobjc-framework-MetalKit                         9.1.1\n",
      "pyobjc-framework-MetalPerformanceShaders          9.1.1\n",
      "pyobjc-framework-MetalPerformanceShadersGraph     9.1.1\n",
      "pyobjc-framework-MLCompute                        9.1.1\n",
      "pyobjc-framework-ModelIO                          9.1.1\n",
      "pyobjc-framework-MultipeerConnectivity            9.1.1\n",
      "pyobjc-framework-NaturalLanguage                  9.1.1\n",
      "pyobjc-framework-NetFS                            9.1.1\n",
      "pyobjc-framework-Network                          9.1.1\n",
      "pyobjc-framework-NetworkExtension                 9.1.1\n",
      "pyobjc-framework-NotificationCenter               9.1.1\n",
      "pyobjc-framework-OpenDirectory                    9.1.1\n",
      "pyobjc-framework-OSAKit                           9.1.1\n",
      "pyobjc-framework-OSLog                            9.1.1\n",
      "pyobjc-framework-PassKit                          9.1.1\n",
      "pyobjc-framework-PencilKit                        9.1.1\n",
      "pyobjc-framework-Photos                           9.1.1\n",
      "pyobjc-framework-PhotosUI                         9.1.1\n",
      "pyobjc-framework-PreferencePanes                  9.1.1\n",
      "pyobjc-framework-PushKit                          9.1.1\n",
      "pyobjc-framework-Quartz                           9.1.1\n",
      "pyobjc-framework-QuickLookThumbnailing            9.1.1\n",
      "pyobjc-framework-ReplayKit                        9.1.1\n",
      "pyobjc-framework-SafariServices                   9.1.1\n",
      "pyobjc-framework-SceneKit                         9.1.1\n",
      "pyobjc-framework-ScreenSaver                      9.1.1\n",
      "pyobjc-framework-ScreenTime                       9.1.1\n",
      "pyobjc-framework-ScriptingBridge                  9.1.1\n",
      "pyobjc-framework-SearchKit                        9.1.1\n",
      "pyobjc-framework-Security                         9.1.1\n",
      "pyobjc-framework-SecurityFoundation               9.1.1\n",
      "pyobjc-framework-SecurityInterface                9.1.1\n",
      "pyobjc-framework-ServiceManagement                9.1.1\n",
      "pyobjc-framework-Social                           9.1.1\n",
      "pyobjc-framework-SoundAnalysis                    9.1.1\n",
      "pyobjc-framework-Speech                           9.1.1\n",
      "pyobjc-framework-SpriteKit                        9.1.1\n",
      "pyobjc-framework-StoreKit                         9.1.1\n",
      "pyobjc-framework-SyncServices                     9.1.1\n",
      "pyobjc-framework-SystemConfiguration              9.1.1\n",
      "pyobjc-framework-SystemExtensions                 9.1.1\n",
      "pyobjc-framework-UniformTypeIdentifiers           9.1.1\n",
      "pyobjc-framework-UserNotifications                9.1.1\n",
      "pyobjc-framework-UserNotificationsUI              9.1.1\n",
      "pyobjc-framework-VideoSubscriberAccount           9.1.1\n",
      "pyobjc-framework-VideoToolbox                     9.1.1\n",
      "pyobjc-framework-Virtualization                   9.1.1\n",
      "pyobjc-framework-Vision                           9.1.1\n",
      "pyobjc-framework-WebKit                           9.1.1\n",
      "pyparsing                                         3.0.9\n",
      "pyperclip                                         1.8.2\n",
      "pyproject_hooks                                   1.0.0\n",
      "PyRect                                            0.2.0\n",
      "pyrsistent                                        0.19.2\n",
      "pyscreenshot                                      3.1\n",
      "PyScreeze                                         0.1.29\n",
      "pysftp                                            0.2.9\n",
      "PySide6                                           6.5.2\n",
      "PySide6-Addons                                    6.5.2\n",
      "PySide6-Essentials                                6.5.2\n",
      "python-dateutil                                   2.8.2\n",
      "python-json-logger                                2.0.4\n",
      "python-slugify                                    8.0.1\n",
      "pytweening                                        1.0.7\n",
      "pytz                                              2022.6\n",
      "pyvips                                            2.2.1\n",
      "pyvista                                           0.38.5\n",
      "pywhatkit                                         5.4\n",
      "PyYAML                                            6.0\n",
      "pyzmq                                             24.0.1\n",
      "qtconsole                                         5.4.0\n",
      "QtPy                                              2.3.0\n",
      "rapidfuzz                                         2.15.1\n",
      "rauth                                             0.7.3\n",
      "referencing                                       0.30.2\n",
      "requests                                          2.31.0\n",
      "requests-oauthlib                                 1.3.1\n",
      "requests-toolbelt                                 1.0.0\n",
      "rfc3339-validator                                 0.1.4\n",
      "rfc3986-validator                                 0.1.1\n",
      "rich                                              13.5.2\n",
      "rpds-py                                           0.10.3\n",
      "rsa                                               4.9\n",
      "rubicon-objc                                      0.4.6\n",
      "scipy                                             1.9.3\n",
      "scooby                                            0.7.1\n",
      "seaborn                                           0.12.1\n",
      "Send2Trash                                        1.8.2\n",
      "setuptools                                        65.6.0\n",
      "shapely                                           2.0.1\n",
      "shellingham                                       1.5.3\n",
      "shiboken6                                         6.5.2\n",
      "six                                               1.16.0\n",
      "sniffio                                           1.3.0\n",
      "soupsieve                                         2.3.2.post1\n",
      "stack-data                                        0.6.2\n",
      "stackprinter                                      0.2.10\n",
      "support-developer                                 1.0.5\n",
      "svg.py                                            1.4.2\n",
      "svgelements                                       1.9.6\n",
      "svgwrite                                          1.4.3\n",
      "tenacity                                          8.2.2\n",
      "tensorboard                                       2.12.1\n",
      "tensorboard-data-server                           0.7.0\n",
      "tensorboard-plugin-wit                            1.8.1\n",
      "tensorflow                                        2.12.0\n",
      "tensorflow-estimator                              2.12.0\n",
      "tensorflow-io-gcs-filesystem                      0.32.0\n",
      "termcolor                                         2.2.0\n",
      "terminado                                         0.17.1\n",
      "text-unidecode                                    1.3\n",
      "tinycss2                                          1.2.1\n",
      "tomli                                             2.0.1\n",
      "tomlkit                                           0.12.1\n",
      "toolz                                             0.12.0\n",
      "tornado                                           6.2\n",
      "traitlets                                         5.8.0\n",
      "trove-classifiers                                 2023.8.7\n",
      "typing_extensions                                 4.5.0\n",
      "uri-template                                      1.2.0\n",
      "urllib3                                           1.26.13\n",
      "uuid                                              1.30\n",
      "vega-datasets                                     0.9.0\n",
      "virtualenv                                        20.24.5\n",
      "vpype                                             1.13.0\n",
      "vsketch                                           1.0.0\n",
      "vtk                                               9.2.6\n",
      "watchdog                                          2.2.0\n",
      "watchfiles                                        0.20.0\n",
      "wcwidth                                           0.2.5\n",
      "webcolors                                         1.12\n",
      "webencodings                                      0.5.1\n",
      "webptools                                         0.0.9\n",
      "websocket-client                                  1.4.2\n",
      "Werkzeug                                          2.2.2\n",
      "wheel                                             0.38.4\n",
      "Whoosh                                            2.7.4\n",
      "widgetsnbextension                                4.0.4\n",
      "wikipedia                                         1.4.0\n",
      "wrapt                                             1.14.1\n",
      "xattr                                             0.10.1\n",
      "zipp                                              3.16.2\n"
     ]
    }
   ],
   "source": [
    "!pip list"
   ]
  },
  {
   "cell_type": "code",
   "execution_count": null,
   "id": "6a3cc97c-da2c-40fd-904f-cd8a539417cb",
   "metadata": {},
   "outputs": [
    {
     "name": "stdout",
     "output_type": "stream",
     "text": [
      "/usr/bin/python\n"
     ]
    }
   ],
   "source": [
    "!which python"
   ]
  },
  {
   "cell_type": "code",
   "execution_count": 1,
   "id": "1ea2b6f7-63f8-4ea3-b654-98bf9411dbf8",
   "metadata": {},
   "outputs": [
    {
     "data": {
      "application/vnd.jupyter.widget-view+json": {
       "model_id": "f78240c8bede4315a2d91a1f6ad1ee6b",
       "version_major": 2,
       "version_minor": 0
      },
      "image/svg+xml": [
       "<svg xmlns=\"http://www.w3.org/2000/svg\" viewBox=\"0 0 801 501\" width=\"800\" height=\"500\"><rect width=\"800\" height=\"500\" fill=\"white\"/></svg>"
      ],
      "text/plain": [
       "Turtle()"
      ]
     },
     "metadata": {},
     "output_type": "display_data"
    }
   ],
   "source": [
    "from iturtle import Turtle\n",
    "turtle = Turtle()\n",
    "turtle.forward(100)"
   ]
  },
  {
   "cell_type": "code",
   "execution_count": 3,
   "id": "ecd2e9c4",
   "metadata": {},
   "outputs": [
    {
     "data": {
      "application/vnd.jupyter.widget-view+json": {
       "model_id": "437b957494de4ec9a439f5962bda8c8b",
       "version_major": 2,
       "version_minor": 0
      },
      "image/svg+xml": [
       "<svg xmlns=\"http://www.w3.org/2000/svg\" viewBox=\"0 0 801 501\" width=\"800\" height=\"500\"><rect width=\"800\" height=\"500\" fill=\"white\"/></svg>"
      ],
      "text/plain": [
       "Turtle()"
      ]
     },
     "metadata": {},
     "output_type": "display_data"
    },
    {
     "ename": "AttributeError",
     "evalue": "'Turtle' object has no attribute 'setup'",
     "output_type": "error",
     "traceback": [
      "\u001b[0;31m---------------------------------------------------------------------------\u001b[0m",
      "\u001b[0;31mAttributeError\u001b[0m                            Traceback (most recent call last)",
      "\u001b[1;32m/Users/jjesuyver/Documents/GitHub/CCL/turtle-experiment.ipynb Cell 9\u001b[0m line \u001b[0;36m2\n\u001b[1;32m     <a href='vscode-notebook-cell:/Users/jjesuyver/Documents/GitHub/CCL/turtle-experiment.ipynb#X11sZmlsZQ%3D%3D?line=22'>23</a>\u001b[0m         angle \u001b[39m+\u001b[39m\u001b[39m=\u001b[39m angle_step\n\u001b[1;32m     <a href='vscode-notebook-cell:/Users/jjesuyver/Documents/GitHub/CCL/turtle-experiment.ipynb#X11sZmlsZQ%3D%3D?line=24'>25</a>\u001b[0m \u001b[39m# Call set_theme before drawing the Euler curve\u001b[39;00m\n\u001b[0;32m---> <a href='vscode-notebook-cell:/Users/jjesuyver/Documents/GitHub/CCL/turtle-experiment.ipynb#X11sZmlsZQ%3D%3D?line=25'>26</a>\u001b[0m set_theme()\n\u001b[1;32m     <a href='vscode-notebook-cell:/Users/jjesuyver/Documents/GitHub/CCL/turtle-experiment.ipynb#X11sZmlsZQ%3D%3D?line=26'>27</a>\u001b[0m euler_curve(\u001b[39m40\u001b[39m, \u001b[39m1.00\u001b[39m, \u001b[39m60\u001b[39m)\n",
      "\u001b[1;32m/Users/jjesuyver/Documents/GitHub/CCL/turtle-experiment.ipynb Cell 9\u001b[0m line \u001b[0;36m1\n\u001b[1;32m      <a href='vscode-notebook-cell:/Users/jjesuyver/Documents/GitHub/CCL/turtle-experiment.ipynb#X11sZmlsZQ%3D%3D?line=2'>3</a>\u001b[0m \u001b[39mdef\u001b[39;00m \u001b[39mset_theme\u001b[39m(canvas_width\u001b[39m=\u001b[39m\u001b[39m800\u001b[39m, canvas_height\u001b[39m=\u001b[39m\u001b[39m800\u001b[39m,\n\u001b[1;32m      <a href='vscode-notebook-cell:/Users/jjesuyver/Documents/GitHub/CCL/turtle-experiment.ipynb#X11sZmlsZQ%3D%3D?line=3'>4</a>\u001b[0m               canvas_color\u001b[39m=\u001b[39m(\u001b[39m232\u001b[39m\u001b[39m/\u001b[39m\u001b[39m255\u001b[39m, \u001b[39m210\u001b[39m\u001b[39m/\u001b[39m\u001b[39m255\u001b[39m, \u001b[39m210\u001b[39m\u001b[39m/\u001b[39m\u001b[39m255\u001b[39m),\n\u001b[1;32m      <a href='vscode-notebook-cell:/Users/jjesuyver/Documents/GitHub/CCL/turtle-experiment.ipynb#X11sZmlsZQ%3D%3D?line=4'>5</a>\u001b[0m               pen_color\u001b[39m=\u001b[39m(\u001b[39m94\u001b[39m\u001b[39m/\u001b[39m\u001b[39m255\u001b[39m, \u001b[39m71\u001b[39m\u001b[39m/\u001b[39m\u001b[39m255\u001b[39m, \u001b[39m69\u001b[39m\u001b[39m/\u001b[39m\u001b[39m255\u001b[39m),\n\u001b[1;32m      <a href='vscode-notebook-cell:/Users/jjesuyver/Documents/GitHub/CCL/turtle-experiment.ipynb#X11sZmlsZQ%3D%3D?line=5'>6</a>\u001b[0m               thickness\u001b[39m=\u001b[39m\u001b[39m1\u001b[39m,\n\u001b[1;32m      <a href='vscode-notebook-cell:/Users/jjesuyver/Documents/GitHub/CCL/turtle-experiment.ipynb#X11sZmlsZQ%3D%3D?line=6'>7</a>\u001b[0m               speed_value\u001b[39m=\u001b[39m\u001b[39m0\u001b[39m,\n\u001b[1;32m      <a href='vscode-notebook-cell:/Users/jjesuyver/Documents/GitHub/CCL/turtle-experiment.ipynb#X11sZmlsZQ%3D%3D?line=7'>8</a>\u001b[0m               hide_turtle\u001b[39m=\u001b[39m\u001b[39mTrue\u001b[39;00m):\n\u001b[1;32m      <a href='vscode-notebook-cell:/Users/jjesuyver/Documents/GitHub/CCL/turtle-experiment.ipynb#X11sZmlsZQ%3D%3D?line=8'>9</a>\u001b[0m     turtle \u001b[39m=\u001b[39m Turtle()\n\u001b[0;32m---> <a href='vscode-notebook-cell:/Users/jjesuyver/Documents/GitHub/CCL/turtle-experiment.ipynb#X11sZmlsZQ%3D%3D?line=9'>10</a>\u001b[0m     turtle\u001b[39m.\u001b[39;49msetup(width\u001b[39m=\u001b[39mcanvas_width, height\u001b[39m=\u001b[39mcanvas_height)\n\u001b[1;32m     <a href='vscode-notebook-cell:/Users/jjesuyver/Documents/GitHub/CCL/turtle-experiment.ipynb#X11sZmlsZQ%3D%3D?line=10'>11</a>\u001b[0m     turtle\u001b[39m.\u001b[39mbgcolor(canvas_color)\n\u001b[1;32m     <a href='vscode-notebook-cell:/Users/jjesuyver/Documents/GitHub/CCL/turtle-experiment.ipynb#X11sZmlsZQ%3D%3D?line=11'>12</a>\u001b[0m     turtle\u001b[39m.\u001b[39mcolor(pen_color)\n",
      "\u001b[0;31mAttributeError\u001b[0m: 'Turtle' object has no attribute 'setup'"
     ]
    }
   ],
   "source": [
    "from iturtle import Turtle\n",
    "\n",
    "def set_theme(canvas_width=800, canvas_height=800,\n",
    "              canvas_color=(232/255, 210/255, 210/255),\n",
    "              pen_color=(94/255, 71/255, 69/255),\n",
    "              thickness=1,\n",
    "              speed_value=0,\n",
    "              hide_turtle=True):\n",
    "    turtle = Turtle()\n",
    "    turtle.setup(width=canvas_width, height=canvas_height)\n",
    "    turtle.bgcolor(canvas_color)\n",
    "    turtle.color(pen_color)\n",
    "    turtle.width(thickness)\n",
    "    turtle.speed(speed_value)\n",
    "    if hide_turtle:\n",
    "        turtle.hideturtle()\n",
    "\n",
    "def euler_curve(step_size, angle_step, n_steps):\n",
    "    angle = 0\n",
    "    for i in range(n_steps):\n",
    "        turtle.right(angle)\n",
    "        turtle.forward(step_size)\n",
    "        angle += angle_step\n",
    "\n",
    "# Call set_theme before drawing the Euler curve\n",
    "set_theme()\n",
    "euler_curve(40, 1.00, 60)\n"
   ]
  },
  {
   "cell_type": "code",
   "execution_count": 4,
   "id": "3b2702c4",
   "metadata": {},
   "outputs": [
    {
     "data": {
      "application/vnd.jupyter.widget-view+json": {
       "model_id": "12e2d6de2bcb4277bdb5e89a8b824646",
       "version_major": 2,
       "version_minor": 0
      },
      "image/svg+xml": [
       "<svg xmlns=\"http://www.w3.org/2000/svg\" viewBox=\"0 0 801 501\" width=\"800\" height=\"500\"><rect width=\"800\" height=\"500\" fill=\"white\"/></svg>"
      ],
      "text/plain": [
       "Turtle()"
      ]
     },
     "metadata": {},
     "output_type": "display_data"
    },
    {
     "ename": "AttributeError",
     "evalue": "'Turtle' object has no attribute 'color'",
     "output_type": "error",
     "traceback": [
      "\u001b[0;31m---------------------------------------------------------------------------\u001b[0m",
      "\u001b[0;31mAttributeError\u001b[0m                            Traceback (most recent call last)",
      "\u001b[1;32m/Users/jjesuyver/Documents/GitHub/CCL/turtle-experiment.ipynb Cell 10\u001b[0m line \u001b[0;36m2\n\u001b[1;32m     <a href='vscode-notebook-cell:/Users/jjesuyver/Documents/GitHub/CCL/turtle-experiment.ipynb#X12sZmlsZQ%3D%3D?line=18'>19</a>\u001b[0m         angle \u001b[39m+\u001b[39m\u001b[39m=\u001b[39m angle_step\n\u001b[1;32m     <a href='vscode-notebook-cell:/Users/jjesuyver/Documents/GitHub/CCL/turtle-experiment.ipynb#X12sZmlsZQ%3D%3D?line=20'>21</a>\u001b[0m \u001b[39m# Call set_theme before drawing the Euler curve\u001b[39;00m\n\u001b[0;32m---> <a href='vscode-notebook-cell:/Users/jjesuyver/Documents/GitHub/CCL/turtle-experiment.ipynb#X12sZmlsZQ%3D%3D?line=21'>22</a>\u001b[0m set_theme()\n\u001b[1;32m     <a href='vscode-notebook-cell:/Users/jjesuyver/Documents/GitHub/CCL/turtle-experiment.ipynb#X12sZmlsZQ%3D%3D?line=22'>23</a>\u001b[0m euler_curve(\u001b[39m40\u001b[39m, \u001b[39m1.00\u001b[39m, \u001b[39m60\u001b[39m)\n",
      "\u001b[1;32m/Users/jjesuyver/Documents/GitHub/CCL/turtle-experiment.ipynb Cell 10\u001b[0m line \u001b[0;36m8\n\u001b[1;32m      <a href='vscode-notebook-cell:/Users/jjesuyver/Documents/GitHub/CCL/turtle-experiment.ipynb#X12sZmlsZQ%3D%3D?line=2'>3</a>\u001b[0m \u001b[39mdef\u001b[39;00m \u001b[39mset_theme\u001b[39m(pen_color\u001b[39m=\u001b[39m(\u001b[39m94\u001b[39m\u001b[39m/\u001b[39m\u001b[39m255\u001b[39m, \u001b[39m71\u001b[39m\u001b[39m/\u001b[39m\u001b[39m255\u001b[39m, \u001b[39m69\u001b[39m\u001b[39m/\u001b[39m\u001b[39m255\u001b[39m),\n\u001b[1;32m      <a href='vscode-notebook-cell:/Users/jjesuyver/Documents/GitHub/CCL/turtle-experiment.ipynb#X12sZmlsZQ%3D%3D?line=3'>4</a>\u001b[0m               thickness\u001b[39m=\u001b[39m\u001b[39m1\u001b[39m,\n\u001b[1;32m      <a href='vscode-notebook-cell:/Users/jjesuyver/Documents/GitHub/CCL/turtle-experiment.ipynb#X12sZmlsZQ%3D%3D?line=4'>5</a>\u001b[0m               speed_value\u001b[39m=\u001b[39m\u001b[39m0\u001b[39m,\n\u001b[1;32m      <a href='vscode-notebook-cell:/Users/jjesuyver/Documents/GitHub/CCL/turtle-experiment.ipynb#X12sZmlsZQ%3D%3D?line=5'>6</a>\u001b[0m               hide_turtle\u001b[39m=\u001b[39m\u001b[39mTrue\u001b[39;00m):\n\u001b[1;32m      <a href='vscode-notebook-cell:/Users/jjesuyver/Documents/GitHub/CCL/turtle-experiment.ipynb#X12sZmlsZQ%3D%3D?line=6'>7</a>\u001b[0m     turtle \u001b[39m=\u001b[39m Turtle()\n\u001b[0;32m----> <a href='vscode-notebook-cell:/Users/jjesuyver/Documents/GitHub/CCL/turtle-experiment.ipynb#X12sZmlsZQ%3D%3D?line=7'>8</a>\u001b[0m     turtle\u001b[39m.\u001b[39;49mcolor(pen_color)\n\u001b[1;32m      <a href='vscode-notebook-cell:/Users/jjesuyver/Documents/GitHub/CCL/turtle-experiment.ipynb#X12sZmlsZQ%3D%3D?line=8'>9</a>\u001b[0m     turtle\u001b[39m.\u001b[39mwidth(thickness)\n\u001b[1;32m     <a href='vscode-notebook-cell:/Users/jjesuyver/Documents/GitHub/CCL/turtle-experiment.ipynb#X12sZmlsZQ%3D%3D?line=9'>10</a>\u001b[0m     turtle\u001b[39m.\u001b[39mspeed(speed_value)\n",
      "\u001b[0;31mAttributeError\u001b[0m: 'Turtle' object has no attribute 'color'"
     ]
    }
   ],
   "source": [
    "from iturtle import Turtle\n",
    "\n",
    "def set_theme(pen_color=(94/255, 71/255, 69/255),\n",
    "              thickness=1,\n",
    "              speed_value=0,\n",
    "              hide_turtle=True):\n",
    "    turtle = Turtle()\n",
    "    turtle.color(pen_color)\n",
    "    turtle.width(thickness)\n",
    "    turtle.speed(speed_value)\n",
    "    if hide_turtle:\n",
    "        turtle.hideturtle()\n",
    "\n",
    "def euler_curve(step_size, angle_step, n_steps):\n",
    "    angle = 0\n",
    "    for i in range(n_steps):\n",
    "        turtle.right(angle)\n",
    "        turtle.forward(step_size)\n",
    "        angle += angle_step\n",
    "\n",
    "# Call set_theme before drawing the Euler curve\n",
    "set_theme()\n",
    "euler_curve(40, 1.00, 60)\n"
   ]
  },
  {
   "cell_type": "code",
   "execution_count": 5,
   "id": "d78d7b3b",
   "metadata": {},
   "outputs": [
    {
     "data": {
      "application/vnd.jupyter.widget-view+json": {
       "model_id": "593e3969119c431a959f1c8399dc447a",
       "version_major": 2,
       "version_minor": 0
      },
      "image/svg+xml": [
       "<svg xmlns=\"http://www.w3.org/2000/svg\" viewBox=\"0 0 801 501\" width=\"800\" height=\"500\"><rect width=\"800\" height=\"500\" fill=\"white\"/></svg>"
      ],
      "text/plain": [
       "Turtle()"
      ]
     },
     "metadata": {},
     "output_type": "display_data"
    },
    {
     "ename": "TraitError",
     "evalue": "The 'bearing' trait of a Turtle instance expected an int, not the float 1.0.",
     "output_type": "error",
     "traceback": [
      "\u001b[0;31m---------------------------------------------------------------------------\u001b[0m",
      "\u001b[0;31mTraitError\u001b[0m                                Traceback (most recent call last)",
      "\u001b[1;32m/Users/jjesuyver/Documents/GitHub/CCL/turtle-experiment.ipynb Cell 11\u001b[0m line \u001b[0;36m1\n\u001b[1;32m      <a href='vscode-notebook-cell:/Users/jjesuyver/Documents/GitHub/CCL/turtle-experiment.ipynb#X13sZmlsZQ%3D%3D?line=7'>8</a>\u001b[0m         turtle\u001b[39m.\u001b[39mforward(step_size)\n\u001b[1;32m      <a href='vscode-notebook-cell:/Users/jjesuyver/Documents/GitHub/CCL/turtle-experiment.ipynb#X13sZmlsZQ%3D%3D?line=8'>9</a>\u001b[0m         angle \u001b[39m+\u001b[39m\u001b[39m=\u001b[39m angle_step\n\u001b[0;32m---> <a href='vscode-notebook-cell:/Users/jjesuyver/Documents/GitHub/CCL/turtle-experiment.ipynb#X13sZmlsZQ%3D%3D?line=10'>11</a>\u001b[0m euler_curve(\u001b[39m40\u001b[39;49m, \u001b[39m1.00\u001b[39;49m, \u001b[39m60\u001b[39;49m)\n",
      "\u001b[1;32m/Users/jjesuyver/Documents/GitHub/CCL/turtle-experiment.ipynb Cell 11\u001b[0m line \u001b[0;36m7\n\u001b[1;32m      <a href='vscode-notebook-cell:/Users/jjesuyver/Documents/GitHub/CCL/turtle-experiment.ipynb#X13sZmlsZQ%3D%3D?line=4'>5</a>\u001b[0m angle \u001b[39m=\u001b[39m \u001b[39m0\u001b[39m\n\u001b[1;32m      <a href='vscode-notebook-cell:/Users/jjesuyver/Documents/GitHub/CCL/turtle-experiment.ipynb#X13sZmlsZQ%3D%3D?line=5'>6</a>\u001b[0m \u001b[39mfor\u001b[39;00m i \u001b[39min\u001b[39;00m \u001b[39mrange\u001b[39m(n_steps):\n\u001b[0;32m----> <a href='vscode-notebook-cell:/Users/jjesuyver/Documents/GitHub/CCL/turtle-experiment.ipynb#X13sZmlsZQ%3D%3D?line=6'>7</a>\u001b[0m     turtle\u001b[39m.\u001b[39;49mright(angle)\n\u001b[1;32m      <a href='vscode-notebook-cell:/Users/jjesuyver/Documents/GitHub/CCL/turtle-experiment.ipynb#X13sZmlsZQ%3D%3D?line=7'>8</a>\u001b[0m     turtle\u001b[39m.\u001b[39mforward(step_size)\n\u001b[1;32m      <a href='vscode-notebook-cell:/Users/jjesuyver/Documents/GitHub/CCL/turtle-experiment.ipynb#X13sZmlsZQ%3D%3D?line=8'>9</a>\u001b[0m     angle \u001b[39m+\u001b[39m\u001b[39m=\u001b[39m angle_step\n",
      "File \u001b[0;32m/Library/Frameworks/Python.framework/Versions/3.11/lib/python3.11/site-packages/iturtle/turtle.py:150\u001b[0m, in \u001b[0;36mTurtle.right\u001b[0;34m(self, angle)\u001b[0m\n\u001b[1;32m    144\u001b[0m \u001b[39mdef\u001b[39;00m \u001b[39mright\u001b[39m(\u001b[39mself\u001b[39m, angle: \u001b[39mint\u001b[39m):\n\u001b[1;32m    145\u001b[0m     \u001b[39m\"\"\"\u001b[39;00m\n\u001b[1;32m    146\u001b[0m \u001b[39m    Turn the turtle num degrees to the right.\u001b[39;00m\n\u001b[1;32m    147\u001b[0m \u001b[39m    Example:\u001b[39;00m\n\u001b[1;32m    148\u001b[0m \u001b[39m        t.right(90)\u001b[39;00m\n\u001b[1;32m    149\u001b[0m \u001b[39m    \"\"\"\u001b[39;00m\n\u001b[0;32m--> 150\u001b[0m     \u001b[39mself\u001b[39;49m\u001b[39m.\u001b[39;49mbearing \u001b[39m=\u001b[39m (\u001b[39mself\u001b[39m\u001b[39m.\u001b[39mbearing \u001b[39m+\u001b[39m angle) \u001b[39m%\u001b[39m \u001b[39m360\u001b[39m\n",
      "File \u001b[0;32m/Library/Frameworks/Python.framework/Versions/3.11/lib/python3.11/site-packages/traitlets/traitlets.py:732\u001b[0m, in \u001b[0;36mTraitType.__set__\u001b[0;34m(self, obj, value)\u001b[0m\n\u001b[1;32m    730\u001b[0m     \u001b[39mraise\u001b[39;00m TraitError(\u001b[39m'\u001b[39m\u001b[39mThe \u001b[39m\u001b[39m\"\u001b[39m\u001b[39m%s\u001b[39;00m\u001b[39m\"\u001b[39m\u001b[39m trait is read-only.\u001b[39m\u001b[39m'\u001b[39m \u001b[39m%\u001b[39m \u001b[39mself\u001b[39m\u001b[39m.\u001b[39mname)\n\u001b[1;32m    731\u001b[0m \u001b[39melse\u001b[39;00m:\n\u001b[0;32m--> 732\u001b[0m     \u001b[39mself\u001b[39;49m\u001b[39m.\u001b[39;49mset(obj, value)\n",
      "File \u001b[0;32m/Library/Frameworks/Python.framework/Versions/3.11/lib/python3.11/site-packages/traitlets/traitlets.py:706\u001b[0m, in \u001b[0;36mTraitType.set\u001b[0;34m(self, obj, value)\u001b[0m\n\u001b[1;32m    705\u001b[0m \u001b[39mdef\u001b[39;00m \u001b[39mset\u001b[39m(\u001b[39mself\u001b[39m, obj, value):\n\u001b[0;32m--> 706\u001b[0m     new_value \u001b[39m=\u001b[39m \u001b[39mself\u001b[39;49m\u001b[39m.\u001b[39;49m_validate(obj, value)\n\u001b[1;32m    707\u001b[0m     \u001b[39mtry\u001b[39;00m:\n\u001b[1;32m    708\u001b[0m         old_value \u001b[39m=\u001b[39m obj\u001b[39m.\u001b[39m_trait_values[\u001b[39mself\u001b[39m\u001b[39m.\u001b[39mname]\n",
      "File \u001b[0;32m/Library/Frameworks/Python.framework/Versions/3.11/lib/python3.11/site-packages/traitlets/traitlets.py:738\u001b[0m, in \u001b[0;36mTraitType._validate\u001b[0;34m(self, obj, value)\u001b[0m\n\u001b[1;32m    736\u001b[0m     \u001b[39mreturn\u001b[39;00m value\n\u001b[1;32m    737\u001b[0m \u001b[39mif\u001b[39;00m \u001b[39mhasattr\u001b[39m(\u001b[39mself\u001b[39m, \u001b[39m\"\u001b[39m\u001b[39mvalidate\u001b[39m\u001b[39m\"\u001b[39m):\n\u001b[0;32m--> 738\u001b[0m     value \u001b[39m=\u001b[39m \u001b[39mself\u001b[39;49m\u001b[39m.\u001b[39;49mvalidate(obj, value)\n\u001b[1;32m    739\u001b[0m \u001b[39mif\u001b[39;00m obj\u001b[39m.\u001b[39m_cross_validation_lock \u001b[39mis\u001b[39;00m \u001b[39mFalse\u001b[39;00m:\n\u001b[1;32m    740\u001b[0m     value \u001b[39m=\u001b[39m \u001b[39mself\u001b[39m\u001b[39m.\u001b[39m_cross_validate(obj, value)\n",
      "File \u001b[0;32m/Library/Frameworks/Python.framework/Versions/3.11/lib/python3.11/site-packages/traitlets/traitlets.py:2378\u001b[0m, in \u001b[0;36mInt.validate\u001b[0;34m(self, obj, value)\u001b[0m\n\u001b[1;32m   2376\u001b[0m \u001b[39mdef\u001b[39;00m \u001b[39mvalidate\u001b[39m(\u001b[39mself\u001b[39m, obj, value):\n\u001b[1;32m   2377\u001b[0m     \u001b[39mif\u001b[39;00m \u001b[39mnot\u001b[39;00m \u001b[39misinstance\u001b[39m(value, \u001b[39mint\u001b[39m):\n\u001b[0;32m-> 2378\u001b[0m         \u001b[39mself\u001b[39;49m\u001b[39m.\u001b[39;49merror(obj, value)\n\u001b[1;32m   2379\u001b[0m     \u001b[39mreturn\u001b[39;00m _validate_bounds(\u001b[39mself\u001b[39m, obj, value)\n",
      "File \u001b[0;32m/Library/Frameworks/Python.framework/Versions/3.11/lib/python3.11/site-packages/traitlets/traitlets.py:844\u001b[0m, in \u001b[0;36mTraitType.error\u001b[0;34m(self, obj, value, error, info)\u001b[0m\n\u001b[1;32m    838\u001b[0m \u001b[39melse\u001b[39;00m:\n\u001b[1;32m    839\u001b[0m     e \u001b[39m=\u001b[39m \u001b[39m\"\u001b[39m\u001b[39mThe \u001b[39m\u001b[39m'\u001b[39m\u001b[39m{}\u001b[39;00m\u001b[39m'\u001b[39m\u001b[39m trait expected \u001b[39m\u001b[39m{}\u001b[39;00m\u001b[39m, not \u001b[39m\u001b[39m{}\u001b[39;00m\u001b[39m.\u001b[39m\u001b[39m\"\u001b[39m\u001b[39m.\u001b[39mformat(\n\u001b[1;32m    840\u001b[0m         \u001b[39mself\u001b[39m\u001b[39m.\u001b[39mname,\n\u001b[1;32m    841\u001b[0m         \u001b[39mself\u001b[39m\u001b[39m.\u001b[39minfo(),\n\u001b[1;32m    842\u001b[0m         describe(\u001b[39m\"\u001b[39m\u001b[39mthe\u001b[39m\u001b[39m\"\u001b[39m, value),\n\u001b[1;32m    843\u001b[0m     )\n\u001b[0;32m--> 844\u001b[0m \u001b[39mraise\u001b[39;00m TraitError(e)\n",
      "\u001b[0;31mTraitError\u001b[0m: The 'bearing' trait of a Turtle instance expected an int, not the float 1.0."
     ]
    }
   ],
   "source": [
    "from iturtle import Turtle\n",
    "\n",
    "def euler_curve(step_size, angle_step, n_steps):\n",
    "    turtle = Turtle()\n",
    "    angle = 0\n",
    "    for i in range(n_steps):\n",
    "        turtle.right(angle)\n",
    "        turtle.forward(step_size)\n",
    "        angle += angle_step\n",
    "\n",
    "euler_curve(40, 1.00, 60)\n"
   ]
  },
  {
   "cell_type": "code",
   "execution_count": 7,
   "id": "6e017905",
   "metadata": {},
   "outputs": [
    {
     "data": {
      "application/vnd.jupyter.widget-view+json": {
       "model_id": "276f07f8ec1c4de281a814204de944df",
       "version_major": 2,
       "version_minor": 0
      },
      "image/svg+xml": [
       "<svg xmlns=\"http://www.w3.org/2000/svg\" viewBox=\"0 0 801 501\" width=\"800\" height=\"500\"><rect width=\"800\" height=\"500\" fill=\"white\"/></svg>"
      ],
      "text/plain": [
       "Turtle()"
      ]
     },
     "metadata": {},
     "output_type": "display_data"
    }
   ],
   "source": [
    "from iturtle import Turtle\n",
    "\n",
    "turtle.bgcolor(\"orange\")\n",
    "\n",
    "def euler_curve(step_size, angle_step, n_steps):\n",
    "    turtle = Turtle()\n",
    "    angle = 0\n",
    "    for i in range(n_steps):\n",
    "        turtle.right(int(angle))  # Round angle to the nearest integer\n",
    "        turtle.forward(step_size)\n",
    "        angle += angle_step\n",
    "\n",
    "euler_curve(40, 1.00, 60)\n"
   ]
  },
  {
   "cell_type": "code",
   "execution_count": 9,
   "id": "212a7ec9",
   "metadata": {},
   "outputs": [
    {
     "data": {
      "application/vnd.jupyter.widget-view+json": {
       "model_id": "ee1bf17bd9b54f5c8f532143592326c6",
       "version_major": 2,
       "version_minor": 0
      },
      "image/svg+xml": [
       "<svg xmlns=\"http://www.w3.org/2000/svg\" viewBox=\"0 0 801 501\" width=\"800\" height=\"500\"><rect width=\"800\" height=\"500\" fill=\"white\"/></svg>"
      ],
      "text/plain": [
       "Turtle()"
      ]
     },
     "metadata": {},
     "output_type": "display_data"
    }
   ],
   "source": [
    "from iturtle import Turtle\n",
    "\n",
    "# Create a global Turtle instance\n",
    "turtle = Turtle()\n",
    "\n",
    "# Set the background color\n",
    "turtle.bgcolor(\"orange\")\n",
    "\n",
    "def euler_curve(step_size, angle_step, n_steps):\n",
    "    angle = 0\n",
    "    for i in range(n_steps):\n",
    "        turtle.right(int(angle))  # Round angle to the nearest integer\n",
    "        turtle.forward(step_size)\n",
    "        angle += angle_step\n",
    "\n",
    "euler_curve(20, 1.00, 600)\n"
   ]
  },
  {
   "cell_type": "code",
   "execution_count": null,
   "id": "9da92783",
   "metadata": {},
   "outputs": [],
   "source": []
  }
 ],
 "metadata": {
  "kernelspec": {
   "display_name": "Python 3 (ipykernel)",
   "language": "python",
   "name": "python3"
  },
  "language_info": {
   "codemirror_mode": {
    "name": "ipython",
    "version": 3
   },
   "file_extension": ".py",
   "mimetype": "text/x-python",
   "name": "python",
   "nbconvert_exporter": "python",
   "pygments_lexer": "ipython3",
   "version": "3.11.0"
  }
 },
 "nbformat": 4,
 "nbformat_minor": 5
}
