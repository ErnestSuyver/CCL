{
 "cells": [
  {
   "cell_type": "markdown",
   "id": "de59b407-b1d7-45a5-9344-0d83791a22d9",
   "metadata": {},
   "source": [
    "# Turtle Example"
   ]
  },
  {
   "cell_type": "markdown",
   "id": "e25b1331-ef30-41a4-aa76-cb4cf7f3ca9c",
   "metadata": {},
   "source": [
    "This is a Jupyter Notebook. A notebook is a \"computational document\", that is, a document where text may be combined with code and data, and where code can run and visualized. \n",
    "\n",
    "This makes notebooks useful for our purposes: to share examples of creative coding by providing some explanation and some code, and having the ability to run that code, have the output right there and then, and to edit the code and re-run it."
   ]
  },
  {
   "cell_type": "markdown",
   "id": "21dd7736",
   "metadata": {},
   "source": [
    "In this example, we are using Turtle."
   ]
  },
  {
   "cell_type": "code",
   "execution_count": null,
   "id": "212a7ec9",
   "metadata": {},
   "outputs": [
    {
     "data": {
      "application/vnd.jupyter.widget-view+json": {
       "model_id": "7b9a5f6b095e4594a2a7ffbd0009abf7",
       "version_major": 2,
       "version_minor": 0
      },
      "image/svg+xml": [
       "<svg xmlns=\"http://www.w3.org/2000/svg\" viewBox=\"0 0 801 501\" width=\"800\" height=\"500\"><rect width=\"800\" height=\"500\" fill=\"white\"/></svg>"
      ],
      "text/plain": [
       "Turtle()"
      ]
     },
     "metadata": {},
     "output_type": "display_data"
    }
   ],
   "source": [
    "from iturtle import Turtle\n",
    "\n",
    "# Create a global Turtle instance\n",
    "turtle = Turtle()\n",
    "\n",
    "# Set the background color\n",
    "turtle.bgcolor(\"orange\")\n",
    "\n",
    "# define the curve\n",
    "def euler_curve(step_size, angle_step, n_steps):\n",
    "    angle = 0\n",
    "    for i in range(n_steps):\n",
    "        turtle.right(int(angle))  # Round angle to the nearest integer\n",
    "        turtle.forward(step_size)\n",
    "        angle += angle_step\n",
    "\n",
    "euler_curve(20, 1.00, 600)\n"
   ]
  },
  {
   "cell_type": "markdown",
   "id": "eff224f6",
   "metadata": {},
   "source": [
    "## What is Turtle?\n",
    "\n",
    "Turtle, or [Turtle Graphics](https://docs.python.org/3/library/turtle.html), is a Python library that lets people draw figures. It is called \"Turtle\" because the cursor is a turtle holding a pen, drawing a line as it moves. Originally, turtles were robots, literally drawing figures on paper. Later, Turtle graphics became a key feature of the educational [Logo programming language](https://en.wikipedia.org/wiki/Logo_(programming_language))."
   ]
  },
  {
   "cell_type": "markdown",
   "id": "d12dc91c",
   "metadata": {},
   "source": [
    "## How to run this notebook?\n",
    "\n",
    "There are many ways to run this notebook. Some of them require you to install software to run the notebook itself, and then other software to run the code _in_ the notebook.\n",
    "\n",
    "We wanted to provide a self-contained unit, something you can run without having to install software. \n",
    "\n",
    "The solution is also provided by Jupyter: the nbviewer. \n",
    "\n"
   ]
  },
  {
   "cell_type": "markdown",
   "id": "c49bae97",
   "metadata": {},
   "source": [
    "### nbviewer\n",
    "\n",
    "Jupyter nbviewer is a online service provided by the Jupyter project. It tallows you to view and share Jupyter Notebooks without requiring any local installations. It's particularly useful for quickly sharing notebooks with other people.\n",
    "\n",
    "To use Jupyter nbviewer, you simply need to provide the URL to the notebook hosted on a platform like GitHub or as a direct URL to the .ipynb file. Nbviewer will render and display the notebook in a web-friendly format, making it accessible for viewing and sharing.\n",
    "\n",
    "Here's how you can use Jupyter nbviewer:\n",
    "- Upload your Jupyter Notebook to a public location or make it accessible via a URL. Common platforms for hosting notebooks include GitHub, GitLab, or any web server.\n",
    "- Copy the URL of the notebook you want to share.\n",
    "- Visit the Jupyter nbviewer website: https://nbviewer.jupyter.org/.\n",
    "- Paste the URL of your notebook into the nbviewer's input field and press the \"Go!\" button.\n",
    "\n",
    "Nbviewer will generate a web-based view of your notebook, allowing you to browse its content, code, and visualizations directly in your web browser.\n",
    "\n",
    "You can share the generated nbviewer URL with others, and they will be able to view your notebook without any local installations.\n",
    "\n",
    "### even more about nbviewer\n",
    "\n",
    "Jupyter nbviewer is an online service provided by Project Jupyter that allows users to view Jupyter Notebook files (.ipynb) without the need to install any software locally. It's a web-based service that renders and displays Jupyter Notebook files stored on publicly accessible URLs or GitHub repositories. Here's how it works:\n",
    "\n",
    "- Publicly Accessible Notebooks: To use nbviewer, the Jupyter Notebook files you want to share must be hosted publicly on the internet. This could be on a website, a cloud storage platform, or a public GitHub repository.\n",
    "- Web Interface: Users access nbviewer through a web browser. They don't need to install any Jupyter Notebook software or run a local server.\n",
    "- Enter Notebook URL: Users can input the URL of the Jupyter Notebook they want to view into the nbviewer's web interface.\n",
    "- Render and Display: nbviewer fetches the notebook from the provided URL, renders it into a static, readable format, and displays it in the web browser. Users can view the code, text, and visualizations within the notebook.\n",
    "\n",
    "### Read-Only\n",
    "\n",
    "The notebook displayed in nbviewer is read-only. Users can view and interact with the content, but they can't edit or execute code within the notebook.\n",
    "\n",
    "This makes Jupyter nbviewer a convenient way to share Jupyter Notebook content with others, especially when you want to provide access to notebooks hosted online without requiring viewers to install Jupyter Notebook software locally.\n",
    "\n",
    "Keep in mind that because nbviewer relies on publicly accessible URLs, notebooks stored on private servers or local files won't be viewable unless you share them through a publicly accessible platform like GitHub or a cloud-based storage service.\n",
    "\n",
    "### install iturtle\n",
    "\n",
    "If you want to share and view a Jupyter Notebook that contains code utilizing the iturtle library on Jupyter nbviewer, you would typically need to ensure that the iturtle library is available to nbviewer when rendering the notebook. This means that either:\n",
    "\n",
    "- The iturtle library should be installed and properly configured on the nbviewer server.\n",
    "- The notebook should be self-contained and include the necessary code and dependencies (like iturtle) within the notebook itself.\n",
    "\n",
    "If nbviewer has iturtle installed and properly configured on its server, viewing the notebook should work seamlessly. However, if iturtle is not available on nbviewer's server, the notebook may not render correctly, and you might encounter errors related to missing dependencies.\n",
    "\n",
    "To ensure that the notebook is self-contained and includes all the necessary code and dependencies, you can include the installation and import statements for iturtle within the notebook itself. This way, when someone views the notebook on nbviewer, they'll see the installation instructions and can run the code to install iturtle and use it without needing to install it separately.\n",
    "\n",
    "Here's an example of what you might include in the notebook:\n",
    "\n",
    "```sh\n",
    "# Install iturtle (if not already installed)\n",
    "!pip install iturtle\n",
    "\n",
    "# Import the Turtle class from iturtle\n",
    "from iturtle import Turtle\n",
    "\n",
    "# Now you can use the Turtle class and other functionality\n",
    "```\n",
    "\n",
    "This approach allows viewers to install and use iturtle directly from the notebook interface if they have the necessary permissions. It's a good practice for sharing notebooks that rely on specific libraries, especially when you're not certain whether those libraries are available on the viewer's system.\n",
    "\n",
    "### `!pip`\n",
    "\n",
    "What does `!pip` mean (as opposed to plain `pip`)? The !pip syntax is used in Jupyter Notebooks and Jupyter Lab to run shell commands from within a notebook cell. When you prefix a command with ! in a notebook cell, it indicates that the command should be executed in the underlying system's shell or command prompt, rather than within the Python environment of the notebook.\n",
    "\n",
    "In the context of !pip, it's used to run pip commands from within the notebook cell to manage Python packages. For example, you can use !pip install to install Python packages, !pip uninstall to uninstall packages, and so on.\n",
    "\n",
    "Here's an example of how it's used:\n",
    "\n",
    "```sh\n",
    "# Install a Python package from within a notebook cell\n",
    "!pip install package-name\n",
    "\n",
    "```\n",
    "\n",
    "This allows you to manage packages and interact with the system environment without leaving the notebook interface. It's a convenient way to install, update, or uninstall Python packages when working with Jupyter notebooks.\n",
    "\n",
    "\n"
   ]
  },
  {
   "cell_type": "markdown",
   "id": "ab9b8053-8000-4f30-8015-de7a7f6a75a7",
   "metadata": {},
   "source": [
    "## ff wat proberen"
   ]
  },
  {
   "cell_type": "code",
   "execution_count": null,
   "id": "550b3361-4ad2-412f-83d1-1889fe13bcfe",
   "metadata": {},
   "outputs": [
    {
     "data": {
      "application/vnd.jupyter.widget-view+json": {
       "model_id": "97350ae735ff4b13b8712949bce0f42f",
       "version_major": 2,
       "version_minor": 0
      },
      "image/svg+xml": [
       "<svg xmlns=\"http://www.w3.org/2000/svg\" viewBox=\"0 0 801 501\" width=\"800\" height=\"500\"><rect width=\"800\" height=\"500\" fill=\"white\"/></svg>"
      ],
      "text/plain": [
       "Turtle()"
      ]
     },
     "metadata": {},
     "output_type": "display_data"
    },
    {
     "data": {
      "application/vnd.jupyter.widget-view+json": {
       "model_id": "36e98365b35446b5b155e0a515db2fc0",
       "version_major": 2,
       "version_minor": 0
      },
      "text/plain": [
       "interactive(children=(IntSlider(value=20, description='step_size', max=40, min=2, step=2), FloatSlider(value=1…"
      ]
     },
     "metadata": {},
     "output_type": "display_data"
    },
    {
     "data": {
      "text/plain": [
       "<function __main__.euler_curve(step_size=20, angle_step=1.0, n_steps=600)>"
      ]
     },
     "execution_count": null,
     "metadata": {},
     "output_type": "execute_result"
    }
   ],
   "source": [
    "from iturtle import Turtle\n",
    "from ipywidgets import interact\n",
    "\n",
    "# Create a global Turtle instance\n",
    "turtle = Turtle()\n",
    "\n",
    "# Set the background color\n",
    "turtle.bgcolor(\"orange\")\n",
    "\n",
    "# Define the curve\n",
    "def euler_curve(step_size=20, angle_step=1.00, n_steps=600):\n",
    "    angle = 0\n",
    "    for i in range(n_steps):\n",
    "        turtle.right(int(angle))  # Round angle to the nearest integer\n",
    "        turtle.forward(step_size)\n",
    "        angle += angle_step\n",
    "\n",
    "# The interact function expects the range to be defined as (min, max, step). I\n",
    "# interact(euler_curve, step_size=(6, 120, 2))\n",
    "interact(euler_curve, step_size=(2, 40, 2), angle_step=(0.1, 2.0, 0.1), n_steps=(0, 1200, 30))\n"
   ]
  },
  {
   "cell_type": "markdown",
   "id": "a09b1c8d-e608-4641-b2bc-d2a6a615967b",
   "metadata": {},
   "source": [
    "## Turtle Graphics in Matplotlib\n",
    "\n",
    "You can create turtle graphics using Matplotlib, a powerful Python plotting library. While it's not as interactive as 'iturtle,' you can still create interesting drawings and animations. Here's a simple example of turtle graphics using Matplotlib"
   ]
  },
  {
   "cell_type": "code",
   "execution_count": null,
   "id": "824dfe68-ec6d-4da6-9cd0-e2a0430cfc08",
   "metadata": {},
   "outputs": [
    {
     "ename": "AttributeError",
     "evalue": "module 'matplotlib.pyplot' has no attribute 'forward'",
     "output_type": "error",
     "traceback": [
      "\u001b[0;31m---------------------------------------------------------------------------\u001b[0m",
      "\u001b[0;31mAttributeError\u001b[0m                            Traceback (most recent call last)",
      "Cell \u001b[0;32mIn[7], line 18\u001b[0m\n\u001b[1;32m     15\u001b[0m     plt\u001b[38;5;241m.\u001b[39maxis(\u001b[38;5;124m'\u001b[39m\u001b[38;5;124mscaled\u001b[39m\u001b[38;5;124m'\u001b[39m)\n\u001b[1;32m     16\u001b[0m     plt\u001b[38;5;241m.\u001b[39mshow()\n\u001b[0;32m---> 18\u001b[0m \u001b[43mdraw_polygon\u001b[49m\u001b[43m(\u001b[49m\u001b[38;5;241;43m6\u001b[39;49m\u001b[43m,\u001b[49m\u001b[43m \u001b[49m\u001b[38;5;241;43m100\u001b[39;49m\u001b[43m)\u001b[49m\n",
      "Cell \u001b[0;32mIn[7], line 10\u001b[0m, in \u001b[0;36mdraw_polygon\u001b[0;34m(sides, size)\u001b[0m\n\u001b[1;32m      8\u001b[0m \u001b[38;5;28;01mfor\u001b[39;00m _ \u001b[38;5;129;01min\u001b[39;00m \u001b[38;5;28mrange\u001b[39m(sides):\n\u001b[1;32m      9\u001b[0m     points\u001b[38;5;241m.\u001b[39mappend((size, \u001b[38;5;241m0\u001b[39m))\n\u001b[0;32m---> 10\u001b[0m     \u001b[43mplt\u001b[49m\u001b[38;5;241;43m.\u001b[39;49m\u001b[43mforward\u001b[49m(size)\n\u001b[1;32m     11\u001b[0m     plt\u001b[38;5;241m.\u001b[39mleft(angle)\n\u001b[1;32m     13\u001b[0m polygon \u001b[38;5;241m=\u001b[39m Polygon(points, closed\u001b[38;5;241m=\u001b[39m\u001b[38;5;28;01mTrue\u001b[39;00m, fill\u001b[38;5;241m=\u001b[39m\u001b[38;5;28;01mFalse\u001b[39;00m)\n",
      "\u001b[0;31mAttributeError\u001b[0m: module 'matplotlib.pyplot' has no attribute 'forward'"
     ]
    }
   ],
   "source": [
    "import matplotlib.pyplot as plt\n",
    "from matplotlib.patches import Polygon\n",
    "\n",
    "def draw_polygon(sides, size):\n",
    "    angle = 360 / sides\n",
    "    points = []\n",
    "\n",
    "    for _ in range(sides):\n",
    "        points.append((size, 0))\n",
    "        plt.forward(size)\n",
    "        plt.left(angle)\n",
    "\n",
    "    polygon = Polygon(points, closed=True, fill=False)\n",
    "    plt.gca().add_patch(polygon)\n",
    "    plt.axis('scaled')\n",
    "    plt.show()\n",
    "\n",
    "draw_polygon(6, 100)\n"
   ]
  },
  {
   "cell_type": "markdown",
   "id": "d740bd0a-6036-43df-8de0-ac8b01f30c7a",
   "metadata": {},
   "source": [
    "## PyWidgets and Matplotlib\n",
    "\n",
    "You can combine IPyWidgets with Matplotlib to create interactive turtle graphics. IPyWidgets can be used to control parameters like step size and angles interactively. Here's a simple example:"
   ]
  },
  {
   "cell_type": "code",
   "execution_count": null,
   "id": "750a6f69-8b7a-49aa-ac5d-5ab878f6cbea",
   "metadata": {},
   "outputs": [
    {
     "data": {
      "application/vnd.jupyter.widget-view+json": {
       "model_id": "68e5f6505ed1480681f6c41f3e9bfed4",
       "version_major": 2,
       "version_minor": 0
      },
      "text/plain": [
       "interactive(children=(IntSlider(value=6, description='sides', max=12, min=3), FloatSlider(value=100.0, descrip…"
      ]
     },
     "metadata": {},
     "output_type": "display_data"
    },
    {
     "data": {
      "text/plain": [
       "<function __main__.draw_polygon(sides, size)>"
      ]
     },
     "execution_count": null,
     "metadata": {},
     "output_type": "execute_result"
    }
   ],
   "source": [
    "import matplotlib.pyplot as plt\n",
    "from ipywidgets import interact, widgets\n",
    "from IPython.display import display\n",
    "\n",
    "def draw_polygon(sides, size):\n",
    "    angle = 360 / sides\n",
    "    points = []\n",
    "\n",
    "    for _ in range(sides):\n",
    "        points.append((size, 0))\n",
    "        plt.forward(size)\n",
    "        plt.left(angle)\n",
    "\n",
    "    polygon = Polygon(points, closed=True, fill=False)\n",
    "    plt.gca().add_patch(polygon)\n",
    "    plt.axis('scaled')\n",
    "    plt.show()\n",
    "\n",
    "# Create interactive sliders\n",
    "interact(draw_polygon, sides=widgets.IntSlider(min=3, max=12, step=1, value=6), size=widgets.FloatSlider(min=10, max=200, step=10, value=100))\n"
   ]
  },
  {
   "cell_type": "code",
   "execution_count": null,
   "id": "b5345ce4-c681-4388-9f20-6d2b1d4c4206",
   "metadata": {},
   "outputs": [],
   "source": []
  }
 ],
 "metadata": {
  "kernelspec": {
   "display_name": "Python 3 (ipykernel)",
   "language": "python",
   "name": "python3"
  }
 },
 "nbformat": 4,
 "nbformat_minor": 5
}
