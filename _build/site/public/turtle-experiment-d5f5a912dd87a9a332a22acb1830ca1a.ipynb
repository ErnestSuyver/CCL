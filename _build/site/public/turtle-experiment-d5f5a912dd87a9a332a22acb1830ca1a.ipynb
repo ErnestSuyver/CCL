{
 "cells": [
  {
   "cell_type": "markdown",
   "id": "de59b407-b1d7-45a5-9344-0d83791a22d9",
   "metadata": {},
   "source": [
    "# Turtle Experiment"
   ]
  },
  {
   "cell_type": "markdown",
   "id": "e25b1331-ef30-41a4-aa76-cb4cf7f3ca9c",
   "metadata": {},
   "source": [
    "Hier gaan we proberen om Turtle in een Jupyter Notebook te runnen. Dat wil zeggen: de Turtle code wordt uitgevoerd _en gevisualiseerd_ in het notebook. Er moet dus niet een apart venster worden geopend. We willen ook geen kernel crashes of dat soort ongein."
   ]
  },
  {
   "cell_type": "code",
   "execution_count": null,
   "id": "812ad050-bc36-478b-802f-cdf49a5260e6",
   "metadata": {},
   "outputs": [
    {
     "data": {
      "application/vnd.jupyter.widget-view+json": {
       "model_id": "b19a089dae4c4c93aaa77e1756f1bcc1",
       "version_major": 2,
       "version_minor": 0
      },
      "text/plain": [
       "Turtle()"
      ]
     },
     "execution_count": null,
     "metadata": {},
     "output_type": "execute_result"
    }
   ],
   "source": [
    "from ipyturtle import Turtle\n",
    "t = Turtle()\n",
    "t"
   ]
  },
  {
   "cell_type": "code",
   "execution_count": null,
   "id": "bd7f60f6-d332-4721-a3e1-1967f7822fc6",
   "metadata": {},
   "outputs": [
    {
     "data": {
      "application/vnd.jupyter.widget-view+json": {
       "model_id": "bf37ce078c1e4bbdb766cceb79240651",
       "version_major": 2,
       "version_minor": 0
      },
      "image/svg+xml": [
       "<svg xmlns=\"http://www.w3.org/2000/svg\" viewBox=\"0 0 801 501\" width=\"800\" height=\"500\"><rect width=\"800\" height=\"500\" fill=\"white\"/></svg>"
      ],
      "text/plain": [
       "Turtle()"
      ]
     },
     "metadata": {},
     "output_type": "display_data"
    },
    {
     "ename": "AttributeError",
     "evalue": "'Turtle' object has no attribute 'setup'",
     "output_type": "error",
     "traceback": [
      "\u001b[0;31m---------------------------------------------------------------------------\u001b[0m",
      "\u001b[0;31mAttributeError\u001b[0m                            Traceback (most recent call last)",
      "Cell \u001b[0;32mIn[2], line 26\u001b[0m\n\u001b[1;32m     23\u001b[0m         angle \u001b[38;5;241m+\u001b[39m\u001b[38;5;241m=\u001b[39m angle_step\n\u001b[1;32m     25\u001b[0m \u001b[38;5;66;03m# Call set_theme before drawing the Euler curve\u001b[39;00m\n\u001b[0;32m---> 26\u001b[0m \u001b[43mset_theme\u001b[49m\u001b[43m(\u001b[49m\u001b[43m)\u001b[49m\n\u001b[1;32m     27\u001b[0m euler_curve(\u001b[38;5;241m40\u001b[39m, \u001b[38;5;241m1.00\u001b[39m, \u001b[38;5;241m600\u001b[39m)\n",
      "Cell \u001b[0;32mIn[2], line 10\u001b[0m, in \u001b[0;36mset_theme\u001b[0;34m(canvas_width, canvas_height, canvas_color, pen_color, thickness, speed_value, hide_turtle)\u001b[0m\n\u001b[1;32m      3\u001b[0m \u001b[38;5;28;01mdef\u001b[39;00m \u001b[38;5;21mset_theme\u001b[39m(canvas_width\u001b[38;5;241m=\u001b[39m\u001b[38;5;241m800\u001b[39m, canvas_height\u001b[38;5;241m=\u001b[39m\u001b[38;5;241m800\u001b[39m,\n\u001b[1;32m      4\u001b[0m               canvas_color\u001b[38;5;241m=\u001b[39m(\u001b[38;5;241m232\u001b[39m\u001b[38;5;241m/\u001b[39m\u001b[38;5;241m255\u001b[39m, \u001b[38;5;241m210\u001b[39m\u001b[38;5;241m/\u001b[39m\u001b[38;5;241m255\u001b[39m, \u001b[38;5;241m210\u001b[39m\u001b[38;5;241m/\u001b[39m\u001b[38;5;241m255\u001b[39m),\n\u001b[1;32m      5\u001b[0m               pen_color\u001b[38;5;241m=\u001b[39m(\u001b[38;5;241m94\u001b[39m\u001b[38;5;241m/\u001b[39m\u001b[38;5;241m255\u001b[39m, \u001b[38;5;241m71\u001b[39m\u001b[38;5;241m/\u001b[39m\u001b[38;5;241m255\u001b[39m, \u001b[38;5;241m69\u001b[39m\u001b[38;5;241m/\u001b[39m\u001b[38;5;241m255\u001b[39m),\n\u001b[1;32m      6\u001b[0m               thickness\u001b[38;5;241m=\u001b[39m\u001b[38;5;241m1\u001b[39m,\n\u001b[1;32m      7\u001b[0m               speed_value\u001b[38;5;241m=\u001b[39m\u001b[38;5;241m0\u001b[39m,\n\u001b[1;32m      8\u001b[0m               hide_turtle\u001b[38;5;241m=\u001b[39m\u001b[38;5;28;01mTrue\u001b[39;00m):\n\u001b[1;32m      9\u001b[0m     turtle \u001b[38;5;241m=\u001b[39m Turtle()\n\u001b[0;32m---> 10\u001b[0m     \u001b[43mturtle\u001b[49m\u001b[38;5;241;43m.\u001b[39;49m\u001b[43msetup\u001b[49m(width\u001b[38;5;241m=\u001b[39mcanvas_width, height\u001b[38;5;241m=\u001b[39mcanvas_height)\n\u001b[1;32m     11\u001b[0m     turtle\u001b[38;5;241m.\u001b[39mbgcolor(canvas_color)\n\u001b[1;32m     12\u001b[0m     turtle\u001b[38;5;241m.\u001b[39mcolor(pen_color)\n",
      "\u001b[0;31mAttributeError\u001b[0m: 'Turtle' object has no attribute 'setup'"
     ]
    }
   ],
   "source": [
    "from iturtle import Turtle\n",
    "\n",
    "def set_theme(canvas_width=800, canvas_height=800,\n",
    "              canvas_color=(232/255, 210/255, 210/255),\n",
    "              pen_color=(94/255, 71/255, 69/255),\n",
    "              thickness=1,\n",
    "              speed_value=0,\n",
    "              hide_turtle=True):\n",
    "    turtle = Turtle()\n",
    "    turtle.setup(width=canvas_width, height=canvas_height)\n",
    "    turtle.bgcolor(canvas_color)\n",
    "    turtle.color(pen_color)\n",
    "    turtle.width(thickness)\n",
    "    turtle.speed(speed_value)\n",
    "    if hide_turtle:\n",
    "        turtle.hideturtle()\n",
    "\n",
    "def euler_curve(step_size, angle_step, n_steps):\n",
    "    angle = 0\n",
    "    for i in range(n_steps):\n",
    "        turtle.right(angle)\n",
    "        turtle.forward(step_size)\n",
    "        angle += angle_step\n",
    "\n",
    "# Call set_theme before drawing the Euler curve\n",
    "set_theme()\n",
    "euler_curve(40, 1.00, 600)\n"
   ]
  },
  {
   "cell_type": "code",
   "execution_count": null,
   "id": "38dc6eaa-5184-46d4-9f9b-7c452d21129b",
   "metadata": {},
   "outputs": [],
   "source": []
  }
 ],
 "metadata": {
  "kernelspec": {
   "display_name": "Python 3 (ipykernel)",
   "language": "python",
   "name": "python3"
  }
 },
 "nbformat": 4,
 "nbformat_minor": 5
}
