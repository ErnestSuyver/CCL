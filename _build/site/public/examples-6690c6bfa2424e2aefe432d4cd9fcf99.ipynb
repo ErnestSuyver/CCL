{
 "cells": [
  {
   "cell_type": "markdown",
   "id": "de59b407-b1d7-45a5-9344-0d83791a22d9",
   "metadata": {},
   "source": [
    "# Examples"
   ]
  },
  {
   "cell_type": "markdown",
   "id": "e25b1331-ef30-41a4-aa76-cb4cf7f3ca9c",
   "metadata": {},
   "source": [
    "This is a Jupyter Notebook. A notebook is a \"computational document\", that is, a document where text may be combined with code and data, and where code can run and visualized. \n",
    "\n",
    "This makes notebooks useful for our purposes: to share examples of creative coding by providing some explanation and some code, and having the ability to run that code, have the output right there and then, and to edit the code and re-run it."
   ]
  },
  {
   "cell_type": "markdown",
   "id": "d96baf5f-76b7-4791-a4a4-6691deacd72b",
   "metadata": {},
   "source": [
    "## Example 1. Colored hexagon\n",
    "\n",
    "This draws a colored hexagon, using Python's _Turtle Graphics_ and _ipyturtle3_ libraries and the _ipycanvas_ Jupyter Lab widget. "
   ]
  },
  {
   "cell_type": "code",
   "execution_count": null,
   "id": "ae80ef24-9e79-4c4f-963f-dbbfd852d45b",
   "metadata": {},
   "outputs": [
    {
     "data": {
      "application/vnd.jupyter.widget-view+json": {
       "model_id": "90658f54d05643a19444b5f7da7fe75e",
       "version_major": 2,
       "version_minor": 0
      },
      "text/plain": [
       "Canvas(height=250, width=500)"
      ]
     },
     "metadata": {},
     "output_type": "display_data"
    }
   ],
   "source": [
    "import ipyturtle3 as turtle\n",
    "from ipyturtle3 import hold_canvas\n",
    "myCanvas=turtle.Canvas(width=500,height=250)\n",
    "display(myCanvas)\n",
    "myTS=turtle.TurtleScreen(myCanvas)\n",
    "myTS.clear()\n",
    "\n",
    "# Rainbow benzene\n",
    "colors = ['red', 'purple', 'blue', 'green', 'orange', 'yellow']\n",
    "t = turtle.Turtle(myTS)\n",
    "myTS.bgcolor('black')\n",
    "for x in range(50):\n",
    "    with(hold_canvas(myCanvas)):\n",
    "        t.pencolor(colors[x%6])\n",
    "        t.width(x//100 + 1)\n",
    "        t.forward(x)\n",
    "        t.left(59)"
   ]
  },
  {
   "cell_type": "code",
   "execution_count": null,
   "id": "be186173-1bda-4be3-af93-5bb74bef0bfb",
   "metadata": {},
   "outputs": [],
   "source": []
  },
  {
   "cell_type": "code",
   "execution_count": null,
   "id": "5d04dfd4-577c-4594-ac06-5edad6bba789",
   "metadata": {},
   "outputs": [],
   "source": []
  },
  {
   "cell_type": "markdown",
   "id": "21dd7736",
   "metadata": {},
   "source": [
    "## Example 1. Euler curve\n",
    "\n",
    "This draws an Euler curver, using Python's _Turtle Graphics_ library."
   ]
  },
  {
   "cell_type": "code",
   "execution_count": null,
   "id": "212a7ec9",
   "metadata": {},
   "outputs": [
    {
     "data": {
      "application/vnd.jupyter.widget-view+json": {
       "model_id": "f6abe6a38fcb4774a41da149f295ae36",
       "version_major": 2,
       "version_minor": 0
      },
      "image/svg+xml": [
       "<svg xmlns=\"http://www.w3.org/2000/svg\" viewBox=\"0 0 801 501\" width=\"800\" height=\"500\"><rect width=\"800\" height=\"500\" fill=\"white\"/></svg>"
      ],
      "text/plain": [
       "Turtle()"
      ]
     },
     "metadata": {},
     "output_type": "display_data"
    }
   ],
   "source": [
    "#| label: example-1-Turtle\n",
    "\n",
    "from iturtle import Turtle\n",
    "\n",
    "# Create a global Turtle instance\n",
    "turtle = Turtle()\n",
    "\n",
    "# Set the background color\n",
    "turtle.bgcolor(\"orange\")\n",
    "\n",
    "# define the curve\n",
    "def euler_curve(step_size, angle_step, n_steps):\n",
    "    angle = 0\n",
    "    for i in range(n_steps):\n",
    "        turtle.right(int(angle))  # Round angle to the nearest integer\n",
    "        turtle.forward(step_size)\n",
    "        angle += angle_step\n",
    "\n",
    "euler_curve(20, 1.00, 600)\n"
   ]
  },
  {
   "cell_type": "markdown",
   "id": "a74ae901-addc-4bfd-9bcc-82586bf82d2c",
   "metadata": {},
   "source": [
    "## Example 2. Euler curve with sliders\n",
    "\n",
    "This example uses the ipywidgets library to create some sliders, so readers of the notebook can experiment with the variables of the Euler curve: step length, angle, and number of steps.\n"
   ]
  },
  {
   "cell_type": "code",
   "execution_count": null,
   "id": "22bf61a5-74ab-41c7-9c17-31d8d975a125",
   "metadata": {},
   "outputs": [
    {
     "data": {
      "application/vnd.jupyter.widget-view+json": {
       "model_id": "f979a823772943aeb5668aa0e7689c57",
       "version_major": 2,
       "version_minor": 0
      },
      "image/svg+xml": [
       "<svg xmlns=\"http://www.w3.org/2000/svg\" viewBox=\"0 0 801 501\" width=\"800\" height=\"500\"><rect width=\"800\" height=\"500\" fill=\"white\"/></svg>"
      ],
      "text/plain": [
       "Turtle()"
      ]
     },
     "metadata": {},
     "output_type": "display_data"
    },
    {
     "data": {
      "application/vnd.jupyter.widget-view+json": {
       "model_id": "e250009362f94e09b77324c1b7dca4a8",
       "version_major": 2,
       "version_minor": 0
      },
      "text/plain": [
       "interactive(children=(IntSlider(value=20, description='step_size', max=40, min=2, step=2), FloatSlider(value=1…"
      ]
     },
     "metadata": {},
     "output_type": "display_data"
    },
    {
     "data": {
      "text/plain": [
       "<function __main__.euler_curve(step_size=20, angle_step=1.0, n_steps=600)>"
      ]
     },
     "execution_count": null,
     "metadata": {},
     "output_type": "execute_result"
    }
   ],
   "source": [
    "from iturtle import Turtle\n",
    "from ipywidgets import interact\n",
    "\n",
    "# Create a global Turtle instance\n",
    "turtle = Turtle()\n",
    "\n",
    "# Set the background color\n",
    "turtle.bgcolor(\"orange\")\n",
    "\n",
    "# Define the curve\n",
    "def euler_curve(step_size=20, angle_step=1.00, n_steps=600):\n",
    "    angle = 0\n",
    "    for i in range(n_steps):\n",
    "        turtle.right(int(angle))  # Round angle to the nearest integer\n",
    "        turtle.forward(step_size)\n",
    "        angle += angle_step\n",
    "\n",
    "# The interact function expects the range to be defined as (min, max, step). I\n",
    "# interact(euler_curve, step_size=(6, 120, 2))\n",
    "interact(euler_curve, step_size=(2, 40, 2), angle_step=(0.1, 2.0, 0.1), n_steps=(0, 1200, 30))\n"
   ]
  },
  {
   "cell_type": "markdown",
   "id": "eff224f6",
   "metadata": {},
   "source": [
    "## What is Turtle?\n",
    "\n",
    "Turtle, or [Turtle Graphics](https://docs.python.org/3/library/turtle.html), is a Python library that lets people draw figures. It is called \"Turtle\" because the cursor is a turtle holding a pen, drawing a line as it moves. Originally, turtles were robots, literally drawing figures on paper. Later, Turtle graphics became a key feature of the educational [Logo programming language](https://en.wikipedia.org/wiki/Logo_(programming_language))."
   ]
  },
  {
   "cell_type": "markdown",
   "id": "6ab841c5-35c7-4727-8be2-b65413ec3f95",
   "metadata": {},
   "source": [
    "## What is ipyturtle3\n",
    "\n",
    "[ipyturtle3](https://pypi.org/project/ipyturtle3/) is a PYthon library that makes it possible to use _Turtle_ in Jupyter Lab."
   ]
  },
  {
   "cell_type": "markdown",
   "id": "be33bd3b-3f45-42cf-aed0-4f092622cab5",
   "metadata": {},
   "source": [
    "## What is ipycanvas?\n",
    "\n",
    "Pindakaas"
   ]
  },
  {
   "cell_type": "markdown",
   "id": "6c6d350f-0727-4b07-951e-b4e31412cb8f",
   "metadata": {},
   "source": [
    "## What is Jupyter Lab?\n",
    "\n",
    "Pindakaas"
   ]
  },
  {
   "cell_type": "markdown",
   "id": "d12dc91c",
   "metadata": {},
   "source": [
    "## How to run this notebook?\n",
    "\n",
    "There are many ways to run this notebook. Some of them require you to install software to run the notebook itself, and then other software to run the code _in_ the notebook.\n",
    "\n",
    "We wanted to provide a self-contained unit, something you can run without having to install software. \n",
    "\n",
    "The solution is also provided by Jupyter: the nbviewer. \n",
    "\n"
   ]
  },
  {
   "cell_type": "markdown",
   "id": "c49bae97",
   "metadata": {},
   "source": [
    "### nbviewer\n",
    "\n",
    "Jupyter nbviewer is a online service provided by the Jupyter project. It allows you to view and share Jupyter Notebooks without requiring any local installations.\n",
    "\n",
    "To use Jupyter nbviewer, you simply need to provide the URL to the notebook. Nbviewer will render the notebook in a web-friendly format, making it accessible for viewing and sharing.\n",
    "\n",
    "The URL for this notebook is []().\n",
    "\n",
    "### Read-Only\n",
    "\n",
    "The notebook displayed in nbviewer is read-only. Users can view and interact with the content, but they can't edit or execute code within the notebook. You will need to use one of the other Jupyter tools if you want to do that."
   ]
  },
  {
   "cell_type": "markdown",
   "id": "94aa59ca-e8b8-40a7-9a2a-5042d1aaf3f8",
   "metadata": {},
   "source": [
    "## installing libraries\n",
    "\n",
    "If you want to share and view a Jupyter Notebook that contains code utilizing libraries on Jupyter nbviewer, you would typically need to ensure that those libraries available to nbviewer when rendering the notebook. Ideally, the libraries would be installed and properly configured on the nbviewer server. Alas, this is not always the case. What to do?\n",
    "\n",
    "The alternative is that we provide a self-contained notebook, i.e. a notebook that includes the necessary code and dependencies within the notebook itself. In order to do so, we need to include the installation and import statements for iturtle within the notebook, like this:\n",
    "\n",
    "```sh\n",
    "# Install iturtle (if not already installed)\n",
    "!pip install ipyturtle3\n",
    "\n",
    "# Now you can import the Turtle class from ipyturtle...\n",
    "# ... and use the Turtle class and other functionality\n",
    "\n",
    "# in this case, you will need to install ipycanvas first\n",
    "# using the same type of command\n",
    "\n",
    "```\n",
    "\n",
    "### `!pip`\n",
    "\n",
    "A word about `!pip`. The `!pip` syntax is used in Jupyter Notebooks and Jupyter Lab to run shell commands from within a notebook cell. When you prefix a command with `!` in a notebook cell, it indicates that the command should be executed in the underlying system's shell or command prompt, rather than within the Python environment of the notebook.\n",
    "\n",
    "In the context of `!pip`, it's used to run pip commands from within the notebook cell to manage Python packages. For example, you can use `!pip` install to install Python packages, `!pip uninstall` to uninstall packages, and so on."
   ]
  }
 ],
 "metadata": {
  "kernelspec": {
   "display_name": "Python 3 (ipykernel)",
   "language": "python",
   "name": "python3"
  }
 },
 "nbformat": 4,
 "nbformat_minor": 5
}
